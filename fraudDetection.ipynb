{
 "cells": [
  {
   "cell_type": "markdown",
   "metadata": {},
   "source": [
    "# Homework 2 - IEEE Fraud Detection"
   ]
  },
  {
   "cell_type": "markdown",
   "metadata": {},
   "source": [
    "For all parts below, answer all parts as shown in the Google document for Homework 2. Be sure to include both code that justifies your answer as well as text to answer the questions. We also ask that code be commented to make it easier to follow."
   ]
  },
  {
   "cell_type": "markdown",
   "metadata": {},
   "source": [
    "## Part 1 - Fraudulent vs Non-Fraudulent Transaction"
   ]
  },
  {
   "cell_type": "code",
   "execution_count": 86,
   "metadata": {},
   "outputs": [],
   "source": [
    "import pandas as pd\n",
    "import numpy as np\n",
    "import matplotlib.pyplot as plt\n",
    "import seaborn as sns\n",
    "\n",
    "import warnings\n",
    "\n",
    "\n",
    "train_trans= pd.read_csv(\"train_transaction.csv\") \n",
    "train_ident = pd.read_csv(\"train_identity.csv\")"
   ]
  },
  {
   "cell_type": "code",
   "execution_count": 2,
   "metadata": {},
   "outputs": [
    {
     "name": "stdout",
     "output_type": "stream",
     "text": [
      "   TransactionID  isFraud  TransactionDT  TransactionAmt ProductCD  card1  \\\n",
      "0        2987000        0          86400            68.5         W  13926   \n",
      "1        2987001        0          86401            29.0         W   2755   \n",
      "2        2987002        0          86469            59.0         W   4663   \n",
      "3        2987003        0          86499            50.0         W  18132   \n",
      "4        2987004        0          86506            50.0         H   4497   \n",
      "\n",
      "   card2  card3       card4  card5  ... V330  V331  V332  V333  V334 V335  \\\n",
      "0    NaN  150.0    discover  142.0  ...  NaN   NaN   NaN   NaN   NaN  NaN   \n",
      "1  404.0  150.0  mastercard  102.0  ...  NaN   NaN   NaN   NaN   NaN  NaN   \n",
      "2  490.0  150.0        visa  166.0  ...  NaN   NaN   NaN   NaN   NaN  NaN   \n",
      "3  567.0  150.0  mastercard  117.0  ...  NaN   NaN   NaN   NaN   NaN  NaN   \n",
      "4  514.0  150.0  mastercard  102.0  ...  0.0   0.0   0.0   0.0   0.0  0.0   \n",
      "\n",
      "  V336  V337  V338  V339  \n",
      "0  NaN   NaN   NaN   NaN  \n",
      "1  NaN   NaN   NaN   NaN  \n",
      "2  NaN   NaN   NaN   NaN  \n",
      "3  NaN   NaN   NaN   NaN  \n",
      "4  0.0   0.0   0.0   0.0  \n",
      "\n",
      "[5 rows x 394 columns]\n",
      "590540\n"
     ]
    }
   ],
   "source": [
    "print(train_trans.head())\n",
    "print(len(train_trans))"
   ]
  },
  {
   "cell_type": "code",
   "execution_count": 3,
   "metadata": {},
   "outputs": [
    {
     "name": "stdout",
     "output_type": "stream",
     "text": [
      "   TransactionID  id_01     id_02  id_03  id_04  id_05  id_06  id_07  id_08  \\\n",
      "0        2987004    0.0   70787.0    NaN    NaN    NaN    NaN    NaN    NaN   \n",
      "1        2987008   -5.0   98945.0    NaN    NaN    0.0   -5.0    NaN    NaN   \n",
      "2        2987010   -5.0  191631.0    0.0    0.0    0.0    0.0    NaN    NaN   \n",
      "3        2987011   -5.0  221832.0    NaN    NaN    0.0   -6.0    NaN    NaN   \n",
      "4        2987016    0.0    7460.0    0.0    0.0    1.0    0.0    NaN    NaN   \n",
      "\n",
      "   id_09  ...                id_31  id_32      id_33           id_34  id_35  \\\n",
      "0    NaN  ...  samsung browser 6.2   32.0  2220x1080  match_status:2      T   \n",
      "1    NaN  ...   mobile safari 11.0   32.0   1334x750  match_status:1      T   \n",
      "2    0.0  ...          chrome 62.0    NaN        NaN             NaN      F   \n",
      "3    NaN  ...          chrome 62.0    NaN        NaN             NaN      F   \n",
      "4    0.0  ...          chrome 62.0   24.0   1280x800  match_status:2      T   \n",
      "\n",
      "  id_36 id_37  id_38  DeviceType                     DeviceInfo  \n",
      "0     F     T      T      mobile  SAMSUNG SM-G892A Build/NRD90M  \n",
      "1     F     F      T      mobile                     iOS Device  \n",
      "2     F     T      T     desktop                        Windows  \n",
      "3     F     T      T     desktop                            NaN  \n",
      "4     F     T      T     desktop                          MacOS  \n",
      "\n",
      "[5 rows x 41 columns]\n",
      "144233\n"
     ]
    }
   ],
   "source": [
    "print(train_ident.head())\n",
    "print(len(train_ident))"
   ]
  },
  {
   "cell_type": "code",
   "execution_count": 73,
   "metadata": {},
   "outputs": [],
   "source": [
    "# Outer join on TransactionID\n",
    "merged_required = pd.merge(train_trans, train_ident, on='TransactionID', how='outer')"
   ]
  },
  {
   "cell_type": "code",
   "execution_count": 74,
   "metadata": {},
   "outputs": [
    {
     "name": "stdout",
     "output_type": "stream",
     "text": [
      "   TransactionID  isFraud  TransactionDT  TransactionAmt ProductCD  card1  \\\n",
      "0        2987000        0          86400            68.5         W  13926   \n",
      "1        2987001        0          86401            29.0         W   2755   \n",
      "2        2987002        0          86469            59.0         W   4663   \n",
      "3        2987003        0          86499            50.0         W  18132   \n",
      "4        2987004        0          86506            50.0         H   4497   \n",
      "\n",
      "   card2  card3       card4  card5  ...                id_31  id_32  \\\n",
      "0    NaN  150.0    discover  142.0  ...                  NaN    NaN   \n",
      "1  404.0  150.0  mastercard  102.0  ...                  NaN    NaN   \n",
      "2  490.0  150.0        visa  166.0  ...                  NaN    NaN   \n",
      "3  567.0  150.0  mastercard  117.0  ...                  NaN    NaN   \n",
      "4  514.0  150.0  mastercard  102.0  ...  samsung browser 6.2   32.0   \n",
      "\n",
      "       id_33           id_34  id_35 id_36 id_37  id_38  DeviceType  \\\n",
      "0        NaN             NaN    NaN   NaN   NaN    NaN         NaN   \n",
      "1        NaN             NaN    NaN   NaN   NaN    NaN         NaN   \n",
      "2        NaN             NaN    NaN   NaN   NaN    NaN         NaN   \n",
      "3        NaN             NaN    NaN   NaN   NaN    NaN         NaN   \n",
      "4  2220x1080  match_status:2      T     F     T      T      mobile   \n",
      "\n",
      "                      DeviceInfo  \n",
      "0                            NaN  \n",
      "1                            NaN  \n",
      "2                            NaN  \n",
      "3                            NaN  \n",
      "4  SAMSUNG SM-G892A Build/NRD90M  \n",
      "\n",
      "[5 rows x 434 columns]\n",
      "(590540, 434)\n"
     ]
    }
   ],
   "source": [
    "print(merged_required.head())\n",
    "print(merged_required.shape)"
   ]
  },
  {
   "cell_type": "code",
   "execution_count": 75,
   "metadata": {},
   "outputs": [
    {
     "data": {
      "text/html": [
       "<div>\n",
       "<style scoped>\n",
       "    .dataframe tbody tr th:only-of-type {\n",
       "        vertical-align: middle;\n",
       "    }\n",
       "\n",
       "    .dataframe tbody tr th {\n",
       "        vertical-align: top;\n",
       "    }\n",
       "\n",
       "    .dataframe thead th {\n",
       "        text-align: right;\n",
       "    }\n",
       "</style>\n",
       "<table border=\"1\" class=\"dataframe\">\n",
       "  <thead>\n",
       "    <tr style=\"text-align: right;\">\n",
       "      <th></th>\n",
       "      <th>TransactionID</th>\n",
       "      <th>isFraud</th>\n",
       "      <th>TransactionDT</th>\n",
       "      <th>TransactionAmt</th>\n",
       "      <th>ProductCD</th>\n",
       "      <th>card1</th>\n",
       "      <th>card2</th>\n",
       "      <th>card3</th>\n",
       "      <th>card4</th>\n",
       "      <th>card5</th>\n",
       "      <th>...</th>\n",
       "      <th>id_31</th>\n",
       "      <th>id_32</th>\n",
       "      <th>id_33</th>\n",
       "      <th>id_34</th>\n",
       "      <th>id_35</th>\n",
       "      <th>id_36</th>\n",
       "      <th>id_37</th>\n",
       "      <th>id_38</th>\n",
       "      <th>DeviceType</th>\n",
       "      <th>DeviceInfo</th>\n",
       "    </tr>\n",
       "  </thead>\n",
       "  <tbody>\n",
       "    <tr>\n",
       "      <th>203</th>\n",
       "      <td>2987203</td>\n",
       "      <td>1</td>\n",
       "      <td>89760</td>\n",
       "      <td>445.000</td>\n",
       "      <td>W</td>\n",
       "      <td>18268</td>\n",
       "      <td>583.0</td>\n",
       "      <td>150.0</td>\n",
       "      <td>visa</td>\n",
       "      <td>226.0</td>\n",
       "      <td>...</td>\n",
       "      <td>NaN</td>\n",
       "      <td>NaN</td>\n",
       "      <td>NaN</td>\n",
       "      <td>NaN</td>\n",
       "      <td>NaN</td>\n",
       "      <td>NaN</td>\n",
       "      <td>NaN</td>\n",
       "      <td>NaN</td>\n",
       "      <td>NaN</td>\n",
       "      <td>NaN</td>\n",
       "    </tr>\n",
       "    <tr>\n",
       "      <th>240</th>\n",
       "      <td>2987240</td>\n",
       "      <td>1</td>\n",
       "      <td>90193</td>\n",
       "      <td>37.098</td>\n",
       "      <td>C</td>\n",
       "      <td>13413</td>\n",
       "      <td>103.0</td>\n",
       "      <td>185.0</td>\n",
       "      <td>visa</td>\n",
       "      <td>137.0</td>\n",
       "      <td>...</td>\n",
       "      <td>chrome 54.0 for android</td>\n",
       "      <td>NaN</td>\n",
       "      <td>NaN</td>\n",
       "      <td>NaN</td>\n",
       "      <td>F</td>\n",
       "      <td>F</td>\n",
       "      <td>T</td>\n",
       "      <td>T</td>\n",
       "      <td>mobile</td>\n",
       "      <td>Redmi Note 4 Build/MMB29M</td>\n",
       "    </tr>\n",
       "    <tr>\n",
       "      <th>243</th>\n",
       "      <td>2987243</td>\n",
       "      <td>1</td>\n",
       "      <td>90246</td>\n",
       "      <td>37.098</td>\n",
       "      <td>C</td>\n",
       "      <td>13413</td>\n",
       "      <td>103.0</td>\n",
       "      <td>185.0</td>\n",
       "      <td>visa</td>\n",
       "      <td>137.0</td>\n",
       "      <td>...</td>\n",
       "      <td>chrome 54.0 for android</td>\n",
       "      <td>NaN</td>\n",
       "      <td>NaN</td>\n",
       "      <td>NaN</td>\n",
       "      <td>F</td>\n",
       "      <td>F</td>\n",
       "      <td>T</td>\n",
       "      <td>T</td>\n",
       "      <td>mobile</td>\n",
       "      <td>Redmi Note 4 Build/MMB29M</td>\n",
       "    </tr>\n",
       "    <tr>\n",
       "      <th>245</th>\n",
       "      <td>2987245</td>\n",
       "      <td>1</td>\n",
       "      <td>90295</td>\n",
       "      <td>37.098</td>\n",
       "      <td>C</td>\n",
       "      <td>13413</td>\n",
       "      <td>103.0</td>\n",
       "      <td>185.0</td>\n",
       "      <td>visa</td>\n",
       "      <td>137.0</td>\n",
       "      <td>...</td>\n",
       "      <td>chrome 54.0 for android</td>\n",
       "      <td>NaN</td>\n",
       "      <td>NaN</td>\n",
       "      <td>NaN</td>\n",
       "      <td>F</td>\n",
       "      <td>F</td>\n",
       "      <td>T</td>\n",
       "      <td>T</td>\n",
       "      <td>mobile</td>\n",
       "      <td>Redmi Note 4 Build/MMB29M</td>\n",
       "    </tr>\n",
       "    <tr>\n",
       "      <th>288</th>\n",
       "      <td>2987288</td>\n",
       "      <td>1</td>\n",
       "      <td>90986</td>\n",
       "      <td>155.521</td>\n",
       "      <td>C</td>\n",
       "      <td>16578</td>\n",
       "      <td>545.0</td>\n",
       "      <td>185.0</td>\n",
       "      <td>visa</td>\n",
       "      <td>226.0</td>\n",
       "      <td>...</td>\n",
       "      <td>chrome 62.0 for ios</td>\n",
       "      <td>NaN</td>\n",
       "      <td>NaN</td>\n",
       "      <td>NaN</td>\n",
       "      <td>F</td>\n",
       "      <td>F</td>\n",
       "      <td>F</td>\n",
       "      <td>F</td>\n",
       "      <td>mobile</td>\n",
       "      <td>NaN</td>\n",
       "    </tr>\n",
       "  </tbody>\n",
       "</table>\n",
       "<p>5 rows × 434 columns</p>\n",
       "</div>"
      ],
      "text/plain": [
       "     TransactionID  isFraud  TransactionDT  TransactionAmt ProductCD  card1  \\\n",
       "203        2987203        1          89760         445.000         W  18268   \n",
       "240        2987240        1          90193          37.098         C  13413   \n",
       "243        2987243        1          90246          37.098         C  13413   \n",
       "245        2987245        1          90295          37.098         C  13413   \n",
       "288        2987288        1          90986         155.521         C  16578   \n",
       "\n",
       "     card2  card3 card4  card5  ...                    id_31  id_32  id_33  \\\n",
       "203  583.0  150.0  visa  226.0  ...                      NaN    NaN    NaN   \n",
       "240  103.0  185.0  visa  137.0  ...  chrome 54.0 for android    NaN    NaN   \n",
       "243  103.0  185.0  visa  137.0  ...  chrome 54.0 for android    NaN    NaN   \n",
       "245  103.0  185.0  visa  137.0  ...  chrome 54.0 for android    NaN    NaN   \n",
       "288  545.0  185.0  visa  226.0  ...      chrome 62.0 for ios    NaN    NaN   \n",
       "\n",
       "     id_34  id_35 id_36 id_37  id_38  DeviceType                 DeviceInfo  \n",
       "203    NaN    NaN   NaN   NaN    NaN         NaN                        NaN  \n",
       "240    NaN      F     F     T      T      mobile  Redmi Note 4 Build/MMB29M  \n",
       "243    NaN      F     F     T      T      mobile  Redmi Note 4 Build/MMB29M  \n",
       "245    NaN      F     F     T      T      mobile  Redmi Note 4 Build/MMB29M  \n",
       "288    NaN      F     F     F      F      mobile                        NaN  \n",
       "\n",
       "[5 rows x 434 columns]"
      ]
     },
     "execution_count": 75,
     "metadata": {},
     "output_type": "execute_result"
    }
   ],
   "source": [
    "isFradTrans = merged_required[merged_required['isFraud'] == 1]\n",
    "nonFraudTrans = merged_required[merged_required['isFraud'] == 0]\n",
    "\n",
    "isFradTrans.head()"
   ]
  },
  {
   "cell_type": "code",
   "execution_count": 76,
   "metadata": {},
   "outputs": [
    {
     "data": {
      "text/plain": [
       "0    569877\n",
       "1     20663\n",
       "Name: isFraud, dtype: int64"
      ]
     },
     "execution_count": 76,
     "metadata": {},
     "output_type": "execute_result"
    },
    {
     "data": {
      "image/png": "[encoded data removed]",
      "text/plain": [
       "<Figure size 432x288 with 1 Axes>"
      ]
     },
     "metadata": {
      "needs_background": "light"
     },
     "output_type": "display_data"
    }
   ],
   "source": [
    "import matplotlib.pyplot as plt\n",
    "import seaborn as sns\n",
    "merged_required['isFraud'].value_counts().plot(kind='bar')\n",
    "plt.xlabel('isFraud')\n",
    "plt.ylabel('count')\n",
    "plt.title('isFraud VS Occurance')\n",
    "merged_required['isFraud'].value_counts()"
   ]
  },
  {
   "cell_type": "markdown",
   "metadata": {},
   "source": [
    "Most of the transactions are Non-Fraud. Almost 97% of transactions are Non-Fraud and remaining 3% are Fraud transactions."
   ]
  },
  {
   "cell_type": "code",
   "execution_count": 77,
   "metadata": {},
   "outputs": [
    {
     "data": {
      "text/plain": [
       "Text(0.5, 1.0, 'ProductCD for Fraud Vs Non-Fraud transactions')"
      ]
     },
     "execution_count": 77,
     "metadata": {},
     "output_type": "execute_result"
    },
    {
     "data": {
      "image/png": "[encoded data removed]",
      "text/plain": [
       "<Figure size 432x288 with 1 Axes>"
      ]
     },
     "metadata": {
      "needs_background": "light"
     },
     "output_type": "display_data"
    }
   ],
   "source": [
    "# Reference: https://seaborn.pydata.org/generated/seaborn.barplot.html\n",
    "\n",
    "merge_plot = (merged_required[\"ProductCD\"].groupby(merged_required[\"isFraud\"]).value_counts(normalize=True).mul(100).rename(\"Percentage\")\n",
    " .reset_index())\n",
    "sns.barplot(x=\"ProductCD\", y=\"Percentage\", hue=\"isFraud\", data=merge_plot)\n",
    "plt.title('ProductCD for Fraud Vs Non-Fraud transactions')"
   ]
  },
  {
   "cell_type": "markdown",
   "metadata": {},
   "source": [
    "The above graph for ProductCD is plotted based on percentage of relative frequency. Although there're  more fraud transactions for ProductCD 'W', from the graph we can observe that for Product Label 'C', there're more fraud transactions(40%) compared to Non-Fraud (10%)."
   ]
  },
  {
   "cell_type": "code",
   "execution_count": 78,
   "metadata": {},
   "outputs": [
    {
     "data": {
      "image/png": "[encoded data removed]",
      "text/plain": [
       "<Figure size 720x360 with 2 Axes>"
      ]
     },
     "metadata": {
      "needs_background": "light"
     },
     "output_type": "display_data"
    }
   ],
   "source": [
    "# plot for transactionDT for Fraud Vs Non-Fraud\n",
    "plt.figure(figsize=(10,5))\n",
    "plt.subplot(2,2,1)\n",
    "plt.plot(isFradTrans['TransactionDT'], 'r-')\n",
    "plt.xlabel('time (s)')\n",
    "plt.title('transactionDT Fraud')\n",
    "plt.subplot(2,2,2)\n",
    "plt.title('transactionDT Non-Fraud')\n",
    "plt.plot(nonFraudTrans['TransactionDT'])\n",
    "plt.xlabel('time (s)')\n",
    "plt.show()"
   ]
  },
  {
   "cell_type": "code",
   "execution_count": 79,
   "metadata": {},
   "outputs": [
    {
     "data": {
      "text/plain": [
       "Text(0.5, 1.0, 'Card category for Fraud Vs Non-Fraud transactions')"
      ]
     },
     "execution_count": 79,
     "metadata": {},
     "output_type": "execute_result"
    },
    {
     "data": {
      "image/png": "[encoded data removed]",
      "text/plain": [
       "<Figure size 432x288 with 1 Axes>"
      ]
     },
     "metadata": {
      "needs_background": "light"
     },
     "output_type": "display_data"
    }
   ],
   "source": [
    "# Reference: https://seaborn.pydata.org/generated/seaborn.barplot.html\n",
    "merge_plot = (merged_required[\"card6\"].groupby(merged_required[\"isFraud\"]).value_counts(normalize=True).mul(100).rename(\"Percentage\")\n",
    " .reset_index())\n",
    "sns.barplot(x=\"card6\", y=\"Percentage\", hue=\"isFraud\", data=merge_plot)\n",
    "\n",
    "plt.title('Card category for Fraud Vs Non-Fraud transactions')"
   ]
  },
  {
   "cell_type": "markdown",
   "metadata": {},
   "source": [
    "The above graph for card6 is plotted based on percentage of relative frequency. Although there're more fraud transactions for debit card, comparing to total number of people who use credit card we can consider that there're more fraud transactions happening in credit card."
   ]
  },
  {
   "cell_type": "code",
   "execution_count": 80,
   "metadata": {},
   "outputs": [
    {
     "data": {
      "text/plain": [
       "Text(0.5, 1.0, 'Card type for Fraud Vs Non-Fraud transactions')"
      ]
     },
     "execution_count": 80,
     "metadata": {},
     "output_type": "execute_result"
    },
    {
     "data": {
      "image/png": "[encoded data removed]",
      "text/plain": [
       "<Figure size 432x288 with 1 Axes>"
      ]
     },
     "metadata": {
      "needs_background": "light"
     },
     "output_type": "display_data"
    }
   ],
   "source": [
    "merge_plot = (merged_required[\"card4\"].groupby(merged_required[\"isFraud\"]).value_counts(normalize=True).mul(100).rename(\"Percentage\")\n",
    " .reset_index())\n",
    "sns.barplot(x=\"card4\", y=\"Percentage\", hue=\"isFraud\", data=merge_plot)\n",
    "\n",
    "plt.title('Card type for Fraud Vs Non-Fraud transactions')"
   ]
  },
  {
   "cell_type": "markdown",
   "metadata": {},
   "source": [
    "Percentage of fraud transactions (60%) is higher for the transactions payed by Visa card compared to mastercard."
   ]
  },
  {
   "cell_type": "code",
   "execution_count": 81,
   "metadata": {},
   "outputs": [
    {
     "data": {
      "text/plain": [
       "<matplotlib.legend.Legend at 0x1a25fadd30>"
      ]
     },
     "execution_count": 81,
     "metadata": {},
     "output_type": "execute_result"
    },
    {
     "data": {
      "image/png": "[encoded data removed]",
      "text/plain": [
       "<Figure size 1080x1080 with 1 Axes>"
      ]
     },
     "metadata": {
      "needs_background": "light"
     },
     "output_type": "display_data"
    }
   ],
   "source": [
    "# Reference: https://seaborn.pydata.org/generated/seaborn.countplot.html\n",
    "fig = plt.figure(figsize=(15,15))\n",
    "plot1=sns.countplot(x='P_emaildomain', data=merged_required,hue='isFraud')\n",
    "plot1.set_title('Purchaser Email Domain')\n",
    "plot1.set_xticklabels(plot1.get_xticklabels(),rotation=90)\n",
    "plot1.set_xlabel(\"Purchaser Email Domain\")\n",
    "plot1.set_ylabel(\"Count\")\n",
    "plot1.legend(title='isFraud', labels=['No','Yes'])"
   ]
  },
  {
   "cell_type": "markdown",
   "metadata": {},
   "source": [
    "Most of the fraud trasactions for purchaser_email_domain and receiver_email_domain are from gmail.com. There's not much interesting insight in this, as lot of people use gmail.com domain. From the above and below graph we can see that very less percentage of frauds happening comapred to non-fraud transactions for gmail.com domain."
   ]
  },
  {
   "cell_type": "code",
   "execution_count": 82,
   "metadata": {},
   "outputs": [
    {
     "data": {
      "text/plain": [
       "<matplotlib.legend.Legend at 0x1a2644ae48>"
      ]
     },
     "execution_count": 82,
     "metadata": {},
     "output_type": "execute_result"
    },
    {
     "data": {
      "image/png": "[encoded data removed]",
      "text/plain": [
       "<Figure size 1080x1080 with 1 Axes>"
      ]
     },
     "metadata": {
      "needs_background": "light"
     },
     "output_type": "display_data"
    }
   ],
   "source": [
    "# Reference: https://seaborn.pydata.org/generated/seaborn.countplot.html\n",
    "fig = plt.figure(figsize=(15,15))\n",
    "plot1=sns.countplot(x='R_emaildomain', data=merged_required,hue='isFraud')\n",
    "plot1.set_title('Receiver Email Domain for Fraud vs Non-Fraud')\n",
    "plot1.set_xticklabels(plot1.get_xticklabels(),rotation=90)\n",
    "plot1.set_xlabel(\"Receiver Email Domain\")\n",
    "plot1.set_ylabel(\"Count\")\n",
    "plot1.legend(title='isFraud', labels=['No','Yes'])"
   ]
  },
  {
   "cell_type": "code",
   "execution_count": 83,
   "metadata": {},
   "outputs": [
    {
     "data": {
      "text/plain": [
       "Text(0.5, 1.0, 'DeviceType for Fraud vs Non-Fraud')"
      ]
     },
     "execution_count": 83,
     "metadata": {},
     "output_type": "execute_result"
    },
    {
     "data": {
      "image/png": "[encoded data removed]",
      "text/plain": [
       "<Figure size 432x288 with 1 Axes>"
      ]
     },
     "metadata": {
      "needs_background": "light"
     },
     "output_type": "display_data"
    }
   ],
   "source": [
    "# Reference: https://seaborn.pydata.org/generated/seaborn.barplot.html\n",
    "merge_plot = (merged_required[\"DeviceType\"].groupby(merged_required[\"isFraud\"]).value_counts(normalize=True).mul(100).rename(\"Percentage\")\n",
    " .reset_index())\n",
    "sns.barplot(x=\"DeviceType\", y=\"Percentage\", hue=\"isFraud\", data=merge_plot)\n",
    "plt.title('DeviceType for Fraud vs Non-Fraud')"
   ]
  },
  {
   "cell_type": "markdown",
   "metadata": {},
   "source": [
    "The above graph for DeviceType is plotted based on percentage of relative frequency. Although there're equal percentage of fraud transactions for both mobile and desktop, comparing to total number of people who use mobile we can consider that there're more fraud transactions happening to the people who use mobile device-type."
   ]
  },
  {
   "cell_type": "code",
   "execution_count": 84,
   "metadata": {},
   "outputs": [
    {
     "data": {
      "text/plain": [
       "Text(0.5, 1.0, 'Transaction Amount for Fraud vs Non-Fraud')"
      ]
     },
     "execution_count": 84,
     "metadata": {},
     "output_type": "execute_result"
    },
    {
     "data": {
      "image/png": "[encoded data removed]",
      "text/plain": [
       "<Figure size 720x432 with 1 Axes>"
      ]
     },
     "metadata": {
      "needs_background": "light"
     },
     "output_type": "display_data"
    }
   ],
   "source": [
    "fig = plt.figure(figsize=(10,6))\n",
    "sns.distplot(isFradTrans[\"TransactionAmt\"] , color=\"red\", label=\"Fraud\")\n",
    "sns.distplot(nonFraudTrans[\"TransactionAmt\"] , color=\"blue\", label=\"NonFraud\")\n",
    "fig.legend(labels=['isFraud','nonFraud'])\n",
    "plt.title('Transaction Amount for Fraud vs Non-Fraud')"
   ]
  },
  {
   "cell_type": "markdown",
   "metadata": {},
   "source": [
    "From the above graph, we can infer that cheap products transactions leads to more fraud. As we can see that most of fraud transactions happened for the transaction amount ranging between $200 - $300"
   ]
  },
  {
   "cell_type": "code",
   "execution_count": 85,
   "metadata": {},
   "outputs": [
    {
     "data": {
      "text/plain": [
       "Text(0.5, 1.0, 'log of Transaction Amount for Fraud vs Non-Fraud')"
      ]
     },
     "execution_count": 85,
     "metadata": {},
     "output_type": "execute_result"
    },
    {
     "data": {
      "image/png": "[encoded data removed]",
      "text/plain": [
       "<Figure size 720x432 with 1 Axes>"
      ]
     },
     "metadata": {
      "needs_background": "light"
     },
     "output_type": "display_data"
    }
   ],
   "source": [
    "fig = plt.figure(figsize=(10,6))\n",
    "sns.distplot(np.log(isFradTrans[\"TransactionAmt\"]) , color=\"blue\", label=\"Fraud\")\n",
    "sns.distplot(np.log(nonFraudTrans[\"TransactionAmt\"]) , color=\"red\", label=\"NonFraud\")\n",
    "fig.legend(labels=['isFraud','nonFraud'])\n",
    "plt.title('log of Transaction Amount for Fraud vs Non-Fraud')"
   ]
  },
  {
   "cell_type": "code",
   "execution_count": 99,
   "metadata": {},
   "outputs": [
    {
     "data": {
      "text/plain": [
       "Text(0.5, 1.0, 'dist1 for Fraud vs Non-Fraud')"
      ]
     },
     "execution_count": 99,
     "metadata": {},
     "output_type": "execute_result"
    },
    {
     "data": {
      "image/png": "[encoded data removed]",
      "text/plain": [
       "<Figure size 720x432 with 1 Axes>"
      ]
     },
     "metadata": {
      "needs_background": "light"
     },
     "output_type": "display_data"
    }
   ],
   "source": [
    "warnings.filterwarnings('ignore')\n",
    "isFradTrans['dist1'].fillna(np.nanmedian(merged_required['dist1']), inplace=True)\n",
    "isFradTrans['dist2'].fillna(np.nanmedian(merged_required['dist2']), inplace=True)\n",
    "nonFraudTrans['dist1'].fillna(np.nanmedian(merged_required['dist1']), inplace=True)\n",
    "nonFraudTrans['dist2'].fillna(np.nanmedian(merged_required['dist2']), inplace=True)\n",
    "fig = plt.figure(figsize=(10,6))\n",
    "sns.distplot(isFradTrans[\"dist1\"] , color=\"blue\", hist= False,label=\"Fraud\")\n",
    "sns.distplot(nonFraudTrans[\"dist1\"] , color=\"red\", hist=False,label=\"NonFraud\")\n",
    "fig.legend(labels=['isFraud','nonFraud'])\n",
    "plt.title('dist1 for Fraud vs Non-Fraud')"
   ]
  },
  {
   "cell_type": "code",
   "execution_count": 100,
   "metadata": {},
   "outputs": [
    {
     "data": {
      "text/plain": [
       "Text(0.5, 1.0, 'dist2 for Fraud vs Non-Fraud')"
      ]
     },
     "execution_count": 100,
     "metadata": {},
     "output_type": "execute_result"
    },
    {
     "data": {
      "image/png": "[encoded data removed]",
      "text/plain": [
       "<Figure size 720x432 with 1 Axes>"
      ]
     },
     "metadata": {
      "needs_background": "light"
     },
     "output_type": "display_data"
    }
   ],
   "source": [
    "fig = plt.figure(figsize=(10,6))\n",
    "sns.distplot(isFradTrans[\"dist2\"] , color=\"blue\", hist = False,label=\"Fraud\")\n",
    "sns.distplot(nonFraudTrans[\"dist2\"] , color=\"red\", hist = False,label=\"NonFraud\")\n",
    "fig.legend(labels=['isFraud','nonFraud'])\n",
    "plt.title('dist2 for Fraud vs Non-Fraud')"
   ]
  },
  {
   "cell_type": "code",
   "execution_count": 91,
   "metadata": {},
   "outputs": [
    {
     "data": {
      "text/plain": [
       "<matplotlib.legend.Legend at 0x1a27917320>"
      ]
     },
     "execution_count": 91,
     "metadata": {},
     "output_type": "execute_result"
    },
    {
     "data": {
      "image/png": "[encoded data removed]",
      "text/plain": [
       "<Figure size 720x720 with 1 Axes>"
      ]
     },
     "metadata": {
      "needs_background": "light"
     },
     "output_type": "display_data"
    }
   ],
   "source": [
    "# As the number of labels are large, considering only top 40\n",
    "# Reference: https://seaborn.pydata.org/generated/seaborn.countplot.html\n",
    "fig = plt.figure(figsize=(10,10))\n",
    "plot1=sns.countplot(x='DeviceInfo', data=merged_required,order = merged_required['DeviceInfo'].value_counts().iloc[:40].index,hue='isFraud')\n",
    "plot1.set_title('DeviceInfo for Fraud vs Non-Fraud')\n",
    "plot1.set_xticklabels(plot1.get_xticklabels(),rotation=90)\n",
    "plot1.set_xlabel(\"DeviceInfo\")\n",
    "plot1.set_ylabel(\"Count\")\n",
    "plot1.legend(title='isFraud', labels=['No','Yes'])"
   ]
  },
  {
   "cell_type": "markdown",
   "metadata": {},
   "source": [
    "There's nothing much interesting about DeviceInfo. But comparitively, there're lot of windows users where fraud transactions are happening."
   ]
  },
  {
   "cell_type": "code",
   "execution_count": 92,
   "metadata": {},
   "outputs": [
    {
     "data": {
      "text/plain": [
       "<matplotlib.legend.Legend at 0x1a27a4c7f0>"
      ]
     },
     "execution_count": 92,
     "metadata": {},
     "output_type": "execute_result"
    },
    {
     "data": {
      "image/png": "[encoded data removed]",
      "text/plain": [
       "<Figure size 720x720 with 1 Axes>"
      ]
     },
     "metadata": {
      "needs_background": "light"
     },
     "output_type": "display_data"
    }
   ],
   "source": [
    "# though this is numerical data, lot of transactions is under 1 country code. So considered countplot for top 20.\n",
    "fig = plt.figure(figsize=(10,10))\n",
    "plot1=sns.countplot(x='addr2', data=merged_required,order = merged_required['addr2'].value_counts().iloc[:20].index,hue='isFraud')\n",
    "plot1.set_title('addr2 for Fraud vs Non-Fraud')\n",
    "plot1.set_xticklabels(plot1.get_xticklabels(),rotation=90)\n",
    "plot1.set_xlabel(\"addr2\")\n",
    "plot1.set_ylabel(\"Count\")\n",
    "plot1.legend(title='isFraud', labels=['No','Yes'])"
   ]
  },
  {
   "cell_type": "markdown",
   "metadata": {},
   "source": [
    "Most of the transactions are happening from country code 87. So all the fraud users from country code 87."
   ]
  },
  {
   "cell_type": "code",
   "execution_count": 93,
   "metadata": {},
   "outputs": [
    {
     "data": {
      "text/plain": [
       "<matplotlib.legend.Legend at 0x1a29127ef0>"
      ]
     },
     "execution_count": 93,
     "metadata": {},
     "output_type": "execute_result"
    },
    {
     "data": {
      "image/png": "[encoded data removed]",
      "text/plain": [
       "<Figure size 720x720 with 1 Axes>"
      ]
     },
     "metadata": {
      "needs_background": "light"
     },
     "output_type": "display_data"
    }
   ],
   "source": [
    "fig = plt.figure(figsize=(10,10))\n",
    "plot1=sns.countplot(x='addr1', data=merged_required,order = merged_required['addr1'].value_counts().iloc[:40].index,hue='isFraud')\n",
    "plot1.set_title('addr1 for Fraud vs Non-Fraud')\n",
    "plot1.set_xticklabels(plot1.get_xticklabels(),rotation=90)\n",
    "plot1.set_xlabel(\"addr1\")\n",
    "plot1.set_ylabel(\"Count\")\n",
    "plot1.legend(title='isFraud', labels=['No','Yes'])"
   ]
  },
  {
   "cell_type": "code",
   "execution_count": null,
   "metadata": {},
   "outputs": [],
   "source": []
  },
  {
   "cell_type": "markdown",
   "metadata": {},
   "source": [
    "## Part 2 - Transaction Frequency"
   ]
  },
  {
   "cell_type": "code",
   "execution_count": 94,
   "metadata": {},
   "outputs": [],
   "source": [
    "#Converting TransactionDT to timestamp. (Day, Hour)\n",
    "\n",
    "merged_required['day'] = pd.to_datetime(merged_required['TransactionDT'], unit='s').dt.day\n",
    "merged_required['hours'] = pd.to_datetime(merged_required['TransactionDT'], unit='s').dt.hour"
   ]
  },
  {
   "cell_type": "code",
   "execution_count": 21,
   "metadata": {},
   "outputs": [
    {
     "name": "stdout",
     "output_type": "stream",
     "text": [
      "        TransactionID  isFraud  TransactionDT  TransactionAmt ProductCD  \\\n",
      "590525        3577525        0       15810866          57.950         W   \n",
      "590526        3577526        1       15810876         250.000         R   \n",
      "590527        3577527        0       15810883         189.950         W   \n",
      "590528        3577528        0       15810907         279.950         W   \n",
      "590529        3577529        0       15810912          73.838         C   \n",
      "590530        3577530        0       15810926         400.780         W   \n",
      "590531        3577531        0       15810935         400.000         R   \n",
      "590532        3577532        0       15811007         204.970         W   \n",
      "590533        3577533        0       15811029         107.950         W   \n",
      "590534        3577534        0       15811030          67.505         C   \n",
      "590535        3577535        0       15811047          49.000         W   \n",
      "590536        3577536        0       15811049          39.500         W   \n",
      "590537        3577537        0       15811079          30.950         W   \n",
      "590538        3577538        0       15811088         117.000         W   \n",
      "590539        3577539        0       15811131         279.950         W   \n",
      "\n",
      "        card1  card2  card3       card4  card5  ...      id_33  \\\n",
      "590525  11942  570.0  150.0        visa  226.0  ...        NaN   \n",
      "590526   1214  174.0  150.0        visa  226.0  ...    855x480   \n",
      "590527   6453  555.0  150.0        visa  226.0  ...        NaN   \n",
      "590528  15066  170.0  150.0  mastercard  102.0  ...        NaN   \n",
      "590529   5096  555.0  185.0  mastercard  137.0  ...        NaN   \n",
      "590530  15066  170.0  150.0  mastercard  102.0  ...        NaN   \n",
      "590531   6019  583.0  150.0        visa  226.0  ...  2560x1600   \n",
      "590532  12037  595.0  150.0  mastercard  224.0  ...        NaN   \n",
      "590533  13071  321.0  150.0        visa  226.0  ...        NaN   \n",
      "590534   5812  408.0  185.0  mastercard  224.0  ...        NaN   \n",
      "590535   6550    NaN  150.0        visa  226.0  ...        NaN   \n",
      "590536  10444  225.0  150.0  mastercard  224.0  ...        NaN   \n",
      "590537  12037  595.0  150.0  mastercard  224.0  ...        NaN   \n",
      "590538   7826  481.0  150.0  mastercard  224.0  ...        NaN   \n",
      "590539  15066  170.0  150.0  mastercard  102.0  ...        NaN   \n",
      "\n",
      "                 id_34  id_35  id_36  id_37 id_38 DeviceType  \\\n",
      "590525             NaN    NaN    NaN    NaN   NaN        NaN   \n",
      "590526  match_status:2      T      F      T     F     mobile   \n",
      "590527             NaN    NaN    NaN    NaN   NaN        NaN   \n",
      "590528             NaN    NaN    NaN    NaN   NaN        NaN   \n",
      "590529             NaN      F      F      T     F     mobile   \n",
      "590530             NaN    NaN    NaN    NaN   NaN        NaN   \n",
      "590531  match_status:2      T      F      T     F    desktop   \n",
      "590532             NaN    NaN    NaN    NaN   NaN        NaN   \n",
      "590533             NaN    NaN    NaN    NaN   NaN        NaN   \n",
      "590534             NaN      F      F      T     F     mobile   \n",
      "590535             NaN    NaN    NaN    NaN   NaN        NaN   \n",
      "590536             NaN    NaN    NaN    NaN   NaN        NaN   \n",
      "590537             NaN    NaN    NaN    NaN   NaN        NaN   \n",
      "590538             NaN    NaN    NaN    NaN   NaN        NaN   \n",
      "590539             NaN    NaN    NaN    NaN   NaN        NaN   \n",
      "\n",
      "                                DeviceInfo  day  hours  \n",
      "590525                                 NaN    2     23  \n",
      "590526                 A574BL Build/NMF26F    2     23  \n",
      "590527                                 NaN    2     23  \n",
      "590528                                 NaN    2     23  \n",
      "590529  Moto E (4) Plus Build/NMA26.42-152    2     23  \n",
      "590530                                 NaN    2     23  \n",
      "590531                               MacOS    2     23  \n",
      "590532                                 NaN    2     23  \n",
      "590533                                 NaN    2     23  \n",
      "590534         RNE-L03 Build/HUAWEIRNE-L03    2     23  \n",
      "590535                                 NaN    2     23  \n",
      "590536                                 NaN    2     23  \n",
      "590537                                 NaN    2     23  \n",
      "590538                                 NaN    2     23  \n",
      "590539                                 NaN    2     23  \n",
      "\n",
      "[15 rows x 436 columns]\n"
     ]
    }
   ],
   "source": [
    "print(merged_required.tail(15))"
   ]
  },
  {
   "cell_type": "code",
   "execution_count": 22,
   "metadata": {},
   "outputs": [
    {
     "data": {
      "text/plain": [
       "87.0     520481\n",
       "60.0       3084\n",
       "96.0        638\n",
       "32.0         91\n",
       "65.0         82\n",
       "16.0         55\n",
       "31.0         47\n",
       "19.0         33\n",
       "26.0         25\n",
       "27.0         20\n",
       "59.0         17\n",
       "69.0         17\n",
       "34.0         16\n",
       "43.0         12\n",
       "98.0         11\n",
       "29.0         11\n",
       "102.0        11\n",
       "68.0         10\n",
       "57.0         10\n",
       "78.0          8\n",
       "10.0          8\n",
       "17.0          7\n",
       "71.0          7\n",
       "13.0          7\n",
       "54.0          6\n",
       "72.0          6\n",
       "88.0          5\n",
       "52.0          5\n",
       "73.0          5\n",
       "21.0          5\n",
       "          ...  \n",
       "24.0          3\n",
       "20.0          3\n",
       "74.0          3\n",
       "92.0          2\n",
       "36.0          2\n",
       "23.0          2\n",
       "76.0          2\n",
       "86.0          2\n",
       "100.0         2\n",
       "63.0          2\n",
       "97.0          2\n",
       "66.0          2\n",
       "77.0          1\n",
       "84.0          1\n",
       "35.0          1\n",
       "22.0          1\n",
       "94.0          1\n",
       "93.0          1\n",
       "15.0          1\n",
       "89.0          1\n",
       "75.0          1\n",
       "25.0          1\n",
       "14.0          1\n",
       "83.0          1\n",
       "82.0          1\n",
       "55.0          1\n",
       "79.0          1\n",
       "49.0          1\n",
       "50.0          1\n",
       "70.0          1\n",
       "Name: addr2, Length: 74, dtype: int64"
      ]
     },
     "execution_count": 22,
     "metadata": {},
     "output_type": "execute_result"
    }
   ],
   "source": [
    "merged_required['addr2'].value_counts()"
   ]
  },
  {
   "cell_type": "code",
   "execution_count": 128,
   "metadata": {},
   "outputs": [
    {
     "data": {
      "text/plain": [
       "Text(0.5, 0, 'hours')"
      ]
     },
     "execution_count": 128,
     "metadata": {},
     "output_type": "execute_result"
    },
    {
     "data": {
      "image/png": "[encoded data removed]",
      "text/plain": [
       "<Figure size 432x288 with 1 Axes>"
      ]
     },
     "metadata": {
      "needs_background": "light"
     },
     "output_type": "display_data"
    }
   ],
   "source": [
    "# Most frequent country code is 87.0 as per addr2 field. Plot graph for hours vs frequency count.\n",
    "plot1 = merged_required[merged_required['addr2']==87.0]['hours'].value_counts().sort_index()\n",
    "plot1.plot(kind='bar')\n",
    "plt.xlabel('hours')"
   ]
  },
  {
   "cell_type": "markdown",
   "metadata": {},
   "source": [
    "Most frequent country code in addr2 field is 87.0 which has 520481 entries. From the above graph, most of transactions are happening from evening to midnight(17th hour to 24rth hour). Waking hours might be around 10 in the morning as number of transactions started incresing from 10th hour. Sleeping hours can be around 3 to 9 as there're less number of transactions."
   ]
  },
  {
   "cell_type": "markdown",
   "metadata": {},
   "source": [
    "## Part 3 - Product Code"
   ]
  },
  {
   "cell_type": "code",
   "execution_count": 96,
   "metadata": {},
   "outputs": [
    {
     "data": {
      "text/plain": [
       "Text(0.5, 1, 'ProductCD Vs TransactionAmt')"
      ]
     },
     "execution_count": 96,
     "metadata": {},
     "output_type": "execute_result"
    },
    {
     "data": {
      "image/png": "[encoded data removed]",
      "text/plain": [
       "<Figure size 720x720 with 1 Axes>"
      ]
     },
     "metadata": {
      "needs_background": "light"
     },
     "output_type": "display_data"
    }
   ],
   "source": [
    "# Reference: https://seaborn.pydata.org/generated/seaborn.catplot.html\n",
    "sns.catplot(x=\"ProductCD\", y=\"TransactionAmt\", hue=\"ProductCD\",\n",
    "            kind=\"box\", dodge=False, data=merged_required, height=10)\n",
    "plt.title('ProductCD Vs TransactionAmt')"
   ]
  },
  {
   "cell_type": "code",
   "execution_count": 25,
   "metadata": {},
   "outputs": [
    {
     "name": "stdout",
     "output_type": "stream",
     "text": [
      "For ProductCD W:  153.15855385223293\n",
      "For ProductCD H:  73.17005813953489\n",
      "For ProductCD C:  42.872353113733446\n",
      "For ProductCD S:  60.269487444100434\n",
      "For ProductCD R:  168.30618849306347\n"
     ]
    }
   ],
   "source": [
    "w_mean = merged_required[merged_required['ProductCD'] == 'W']['TransactionAmt'].mean()\n",
    "print('For ProductCD W: ',w_mean)\n",
    "h_mean = merged_required[merged_required['ProductCD'] == 'H']['TransactionAmt'].mean()\n",
    "print('For ProductCD H: ', h_mean)\n",
    "c_mean = merged_required[merged_required['ProductCD'] == 'C']['TransactionAmt'].mean()\n",
    "print('For ProductCD C: ',c_mean)\n",
    "s_mean = merged_required[merged_required['ProductCD'] == 'S']['TransactionAmt'].mean()\n",
    "print('For ProductCD S: ',s_mean)\n",
    "r_mean = merged_required[merged_required['ProductCD'] == 'R']['TransactionAmt'].mean()\n",
    "print('For ProductCD R: ',r_mean)"
   ]
  },
  {
   "cell_type": "markdown",
   "metadata": {},
   "source": [
    "From the above bar plot and calculation of mean, ProductCD 'R' and 'W' has most expensive products followed by H, S and C."
   ]
  },
  {
   "cell_type": "markdown",
   "metadata": {},
   "source": [
    "## Part 4 - Correlation Coefficient"
   ]
  },
  {
   "cell_type": "code",
   "execution_count": 101,
   "metadata": {},
   "outputs": [
    {
     "data": {
      "text/plain": [
       "array([[1.        , 0.04453236],\n",
       "       [0.04453236, 1.        ]])"
      ]
     },
     "execution_count": 101,
     "metadata": {},
     "output_type": "execute_result"
    }
   ],
   "source": [
    "np.corrcoef(merged_required['TransactionAmt'], merged_required['hours'])"
   ]
  },
  {
   "cell_type": "code",
   "execution_count": 102,
   "metadata": {},
   "outputs": [
    {
     "data": {
      "image/png": "[encoded data removed]",
      "text/plain": [
       "<Figure size 432x288 with 1 Axes>"
      ]
     },
     "metadata": {
      "needs_background": "light"
     },
     "output_type": "display_data"
    }
   ],
   "source": [
    "result_mean = merged_required['TransactionAmt'].groupby(merged_required['hours']).mean()\n",
    "plt.plot(result_mean,'r--')\n",
    "plt.xlabel('hours')\n",
    "plt.ylabel('Purchase Amount Average')\n",
    "plt.grid()\n",
    "plt.title('hours vs Purchase Amount Average')\n",
    "plt.show()"
   ]
  },
  {
   "cell_type": "markdown",
   "metadata": {},
   "source": [
    "From the above plot, purchase amount is higher in the interval 14 hours to 17 hours and purchase amount is less between 3 to 7 hours. We can also assume those can be sleeping hours where purchase amount is less. \n",
    "Correlation coefficient for transaction amount and hours is 0.4453"
   ]
  },
  {
   "cell_type": "markdown",
   "metadata": {},
   "source": [
    "## Part 5 - Interesting Plot"
   ]
  },
  {
   "cell_type": "code",
   "execution_count": 103,
   "metadata": {},
   "outputs": [
    {
     "data": {
      "image/png": "[encoded data removed]",
      "text/plain": [
       "<Figure size 720x360 with 2 Axes>"
      ]
     },
     "metadata": {
      "needs_background": "light"
     },
     "output_type": "display_data"
    }
   ],
   "source": [
    "plt.figure(figsize=(10,5))\n",
    "card4_mean = merged_required[merged_required['isFraud'] == 1]['TransactionAmt'].groupby(merged_required['card4']).mean()\n",
    "card6_mean = merged_required[merged_required['isFraud'] == 1]['TransactionAmt'].groupby(merged_required['card6']).mean()\n",
    "plt.subplot(1, 2, 1)\n",
    "plt.plot(card4_mean,'r--')\n",
    "plt.xlabel('card4')\n",
    "plt.ylabel('Purchase Amount Average for fraud transactions')\n",
    "plt.grid()\n",
    "plt.title('card4 vs Purchase Amount Avg fraud tran')\n",
    "plt.subplot(1, 2, 2)\n",
    "plt.plot(card6_mean)\n",
    "plt.xlabel('card6')\n",
    "plt.grid()\n",
    "plt.title('card6 vs Purchase Amount Average for fraud transactions')\n",
    "plt.show()"
   ]
  },
  {
   "cell_type": "markdown",
   "metadata": {},
   "source": [
    "Purchase amount average for fraud transactions is higher for discover card4 type and credit card of card6 type."
   ]
  },
  {
   "cell_type": "code",
   "execution_count": 104,
   "metadata": {},
   "outputs": [
    {
     "data": {
      "text/plain": [
       "Text(0.5, 1.0, 'DeviceInfo vs Purchase Amount Avg for fraud tran')"
      ]
     },
     "execution_count": 104,
     "metadata": {},
     "output_type": "execute_result"
    },
    {
     "data": {
      "image/png": "[encoded data removed]",
      "text/plain": [
       "<Figure size 720x360 with 1 Axes>"
      ]
     },
     "metadata": {
      "needs_background": "light"
     },
     "output_type": "display_data"
    }
   ],
   "source": [
    "plt.figure(figsize=(10,5))\n",
    "devicetype_mean = merged_required[merged_required['isFraud'] == 1]['TransactionAmt'].groupby(merged_required['DeviceType']).mean()\n",
    "plt.plot(devicetype_mean,'r--')\n",
    "plt.xlabel('DeviceInfo')\n",
    "plt.ylabel('Purchase Amount Average for fraud transactions')\n",
    "plt.grid()\n",
    "plt.title('DeviceInfo vs Purchase Amount Avg for fraud tran')"
   ]
  },
  {
   "cell_type": "markdown",
   "metadata": {},
   "source": [
    "Purchase amount average for fraud transactions is higher for mobile device type compared to transactions done by desktop."
   ]
  },
  {
   "cell_type": "markdown",
   "metadata": {},
   "source": [
    "## Part 6 - Prediction Model"
   ]
  },
  {
   "cell_type": "markdown",
   "metadata": {},
   "source": [
    "1. Done outer join to merge on transaction id, so that 4,00,000 entries are not missed.\n",
    "2. Observed number of non-null values in all available columns.\n",
    "3. Dropped columns which have more than 80 % of NAN values. 'id_23','id_27'\n",
    "4. NAN Handling of Numerical Data: Replaced NAN’s with median value of each column.\n",
    "5. NAN Handling of Categorical Data: Replaced NAN’s with an alphabet for each column. \n",
    "6. Conversion of Categorical to Numerical: For features like: 'M1','M2','M3', 'M4', 'M5',  'M6','M7','M8','M9','ProductCD','card4','card6','DeviceType’,'id_12','id_15','id_16','id_28','id_29','id_35','id_36','id_37','id_38' : Label encoding is applied.\n",
    "7. Split the training data to train and test with 80-20 ratio.\n",
    "8. Baseline Model: Linear Regression with RMSE 0.163. Trained the model with train data and calculated RMSE with test data.\n",
    "9. Applied Random Forest Regression\n",
    "10. Applied XgBoost Regression"
   ]
  },
  {
   "cell_type": "code",
   "execution_count": 105,
   "metadata": {},
   "outputs": [
    {
     "name": "stdout",
     "output_type": "stream",
     "text": [
      "<class 'pandas.core.frame.DataFrame'>\n",
      "Int64Index: 590540 entries, 0 to 590539\n",
      "Data columns (total 436 columns):\n",
      "TransactionID     590540 non-null int64\n",
      "isFraud           590540 non-null int64\n",
      "TransactionDT     590540 non-null int64\n",
      "TransactionAmt    590540 non-null float64\n",
      "ProductCD         590540 non-null object\n",
      "card1             590540 non-null int64\n",
      "card2             581607 non-null float64\n",
      "card3             588975 non-null float64\n",
      "card4             588963 non-null object\n",
      "card5             586281 non-null float64\n",
      "card6             588969 non-null object\n",
      "addr1             524834 non-null float64\n",
      "addr2             524834 non-null float64\n",
      "dist1             238269 non-null float64\n",
      "dist2             37627 non-null float64\n",
      "P_emaildomain     496084 non-null object\n",
      "R_emaildomain     137291 non-null object\n",
      "C1                590540 non-null float64\n",
      "C2                590540 non-null float64\n",
      "C3                590540 non-null float64\n",
      "C4                590540 non-null float64\n",
      "C5                590540 non-null float64\n",
      "C6                590540 non-null float64\n",
      "C7                590540 non-null float64\n",
      "C8                590540 non-null float64\n",
      "C9                590540 non-null float64\n",
      "C10               590540 non-null float64\n",
      "C11               590540 non-null float64\n",
      "C12               590540 non-null float64\n",
      "C13               590540 non-null float64\n",
      "C14               590540 non-null float64\n",
      "D1                589271 non-null float64\n",
      "D2                309743 non-null float64\n",
      "D3                327662 non-null float64\n",
      "D4                421618 non-null float64\n",
      "D5                280699 non-null float64\n",
      "D6                73187 non-null float64\n",
      "D7                38917 non-null float64\n",
      "D8                74926 non-null float64\n",
      "D9                74926 non-null float64\n",
      "D10               514518 non-null float64\n",
      "D11               311253 non-null float64\n",
      "D12               64717 non-null float64\n",
      "D13               61952 non-null float64\n",
      "D14               62187 non-null float64\n",
      "D15               501427 non-null float64\n",
      "M1                319440 non-null object\n",
      "M2                319440 non-null object\n",
      "M3                319440 non-null object\n",
      "M4                309096 non-null object\n",
      "M5                240058 non-null object\n",
      "M6                421180 non-null object\n",
      "M7                244275 non-null object\n",
      "M8                244288 non-null object\n",
      "M9                244288 non-null object\n",
      "V1                311253 non-null float64\n",
      "V2                311253 non-null float64\n",
      "V3                311253 non-null float64\n",
      "V4                311253 non-null float64\n",
      "V5                311253 non-null float64\n",
      "V6                311253 non-null float64\n",
      "V7                311253 non-null float64\n",
      "V8                311253 non-null float64\n",
      "V9                311253 non-null float64\n",
      "V10               311253 non-null float64\n",
      "V11               311253 non-null float64\n",
      "V12               514467 non-null float64\n",
      "V13               514467 non-null float64\n",
      "V14               514467 non-null float64\n",
      "V15               514467 non-null float64\n",
      "V16               514467 non-null float64\n",
      "V17               514467 non-null float64\n",
      "V18               514467 non-null float64\n",
      "V19               514467 non-null float64\n",
      "V20               514467 non-null float64\n",
      "V21               514467 non-null float64\n",
      "V22               514467 non-null float64\n",
      "V23               514467 non-null float64\n",
      "V24               514467 non-null float64\n",
      "V25               514467 non-null float64\n",
      "V26               514467 non-null float64\n",
      "V27               514467 non-null float64\n",
      "V28               514467 non-null float64\n",
      "V29               514467 non-null float64\n",
      "V30               514467 non-null float64\n",
      "V31               514467 non-null float64\n",
      "V32               514467 non-null float64\n",
      "V33               514467 non-null float64\n",
      "V34               514467 non-null float64\n",
      "V35               421571 non-null float64\n",
      "V36               421571 non-null float64\n",
      "V37               421571 non-null float64\n",
      "V38               421571 non-null float64\n",
      "V39               421571 non-null float64\n",
      "V40               421571 non-null float64\n",
      "V41               421571 non-null float64\n",
      "V42               421571 non-null float64\n",
      "V43               421571 non-null float64\n",
      "V44               421571 non-null float64\n",
      "V45               421571 non-null float64\n",
      "V46               421571 non-null float64\n",
      "V47               421571 non-null float64\n",
      "V48               421571 non-null float64\n",
      "V49               421571 non-null float64\n",
      "V50               421571 non-null float64\n",
      "V51               421571 non-null float64\n",
      "V52               421571 non-null float64\n",
      "V53               513444 non-null float64\n",
      "V54               513444 non-null float64\n",
      "V55               513444 non-null float64\n",
      "V56               513444 non-null float64\n",
      "V57               513444 non-null float64\n",
      "V58               513444 non-null float64\n",
      "V59               513444 non-null float64\n",
      "V60               513444 non-null float64\n",
      "V61               513444 non-null float64\n",
      "V62               513444 non-null float64\n",
      "V63               513444 non-null float64\n",
      "V64               513444 non-null float64\n",
      "V65               513444 non-null float64\n",
      "V66               513444 non-null float64\n",
      "V67               513444 non-null float64\n",
      "V68               513444 non-null float64\n",
      "V69               513444 non-null float64\n",
      "V70               513444 non-null float64\n",
      "V71               513444 non-null float64\n",
      "V72               513444 non-null float64\n",
      "V73               513444 non-null float64\n",
      "V74               513444 non-null float64\n",
      "V75               501376 non-null float64\n",
      "V76               501376 non-null float64\n",
      "V77               501376 non-null float64\n",
      "V78               501376 non-null float64\n",
      "V79               501376 non-null float64\n",
      "V80               501376 non-null float64\n",
      "V81               501376 non-null float64\n",
      "V82               501376 non-null float64\n",
      "V83               501376 non-null float64\n",
      "V84               501376 non-null float64\n",
      "V85               501376 non-null float64\n",
      "V86               501376 non-null float64\n",
      "V87               501376 non-null float64\n",
      "V88               501376 non-null float64\n",
      "V89               501376 non-null float64\n",
      "V90               501376 non-null float64\n",
      "V91               501376 non-null float64\n",
      "V92               501376 non-null float64\n",
      "V93               501376 non-null float64\n",
      "V94               501376 non-null float64\n",
      "V95               590226 non-null float64\n",
      "V96               590226 non-null float64\n",
      "V97               590226 non-null float64\n",
      "V98               590226 non-null float64\n",
      "V99               590226 non-null float64\n",
      "V100              590226 non-null float64\n",
      "V101              590226 non-null float64\n",
      "V102              590226 non-null float64\n",
      "V103              590226 non-null float64\n",
      "V104              590226 non-null float64\n",
      "V105              590226 non-null float64\n",
      "V106              590226 non-null float64\n",
      "V107              590226 non-null float64\n",
      "V108              590226 non-null float64\n",
      "V109              590226 non-null float64\n",
      "V110              590226 non-null float64\n",
      "V111              590226 non-null float64\n",
      "V112              590226 non-null float64\n",
      "V113              590226 non-null float64\n",
      "V114              590226 non-null float64\n",
      "V115              590226 non-null float64\n",
      "V116              590226 non-null float64\n",
      "V117              590226 non-null float64\n",
      "V118              590226 non-null float64\n",
      "V119              590226 non-null float64\n",
      "V120              590226 non-null float64\n",
      "V121              590226 non-null float64\n",
      "V122              590226 non-null float64\n",
      "V123              590226 non-null float64\n",
      "V124              590226 non-null float64\n",
      "V125              590226 non-null float64\n",
      "V126              590226 non-null float64\n",
      "V127              590226 non-null float64\n",
      "V128              590226 non-null float64\n",
      "V129              590226 non-null float64\n",
      "V130              590226 non-null float64\n",
      "V131              590226 non-null float64\n",
      "V132              590226 non-null float64\n",
      "V133              590226 non-null float64\n",
      "V134              590226 non-null float64\n",
      "V135              590226 non-null float64\n",
      "V136              590226 non-null float64\n",
      "V137              590226 non-null float64\n",
      "V138              81945 non-null float64\n",
      "V139              81945 non-null float64\n",
      "V140              81945 non-null float64\n",
      "V141              81945 non-null float64\n",
      "V142              81945 non-null float64\n",
      "V143              81951 non-null float64\n",
      "V144              81951 non-null float64\n",
      "V145              81951 non-null float64\n",
      "V146              81945 non-null float64\n",
      "V147              81945 non-null float64\n",
      "V148              81945 non-null float64\n",
      "V149              81945 non-null float64\n",
      "V150              81951 non-null float64\n",
      "V151              81951 non-null float64\n",
      "V152              81951 non-null float64\n",
      "V153              81945 non-null float64\n",
      "V154              81945 non-null float64\n",
      "V155              81945 non-null float64\n",
      "V156              81945 non-null float64\n",
      "V157              81945 non-null float64\n",
      "V158              81945 non-null float64\n",
      "V159              81951 non-null float64\n",
      "V160              81951 non-null float64\n",
      "V161              81945 non-null float64\n",
      "V162              81945 non-null float64\n",
      "V163              81945 non-null float64\n",
      "V164              81951 non-null float64\n",
      "V165              81951 non-null float64\n",
      "V166              81951 non-null float64\n",
      "V167              139631 non-null float64\n",
      "V168              139631 non-null float64\n",
      "V169              139819 non-null float64\n",
      "V170              139819 non-null float64\n",
      "V171              139819 non-null float64\n",
      "V172              139631 non-null float64\n",
      "V173              139631 non-null float64\n",
      "V174              139819 non-null float64\n",
      "V175              139819 non-null float64\n",
      "V176              139631 non-null float64\n",
      "V177              139631 non-null float64\n",
      "V178              139631 non-null float64\n",
      "V179              139631 non-null float64\n",
      "V180              139819 non-null float64\n",
      "V181              139631 non-null float64\n",
      "V182              139631 non-null float64\n",
      "V183              139631 non-null float64\n",
      "V184              139819 non-null float64\n",
      "V185              139819 non-null float64\n",
      "V186              139631 non-null float64\n",
      "V187              139631 non-null float64\n",
      "V188              139819 non-null float64\n",
      "V189              139819 non-null float64\n",
      "V190              139631 non-null float64\n",
      "V191              139631 non-null float64\n",
      "V192              139631 non-null float64\n",
      "V193              139631 non-null float64\n",
      "V194              139819 non-null float64\n",
      "V195              139819 non-null float64\n",
      "V196              139631 non-null float64\n",
      "V197              139819 non-null float64\n",
      "V198              139819 non-null float64\n",
      "V199              139631 non-null float64\n",
      "V200              139819 non-null float64\n",
      "V201              139819 non-null float64\n",
      "V202              139631 non-null float64\n",
      "V203              139631 non-null float64\n",
      "V204              139631 non-null float64\n",
      "V205              139631 non-null float64\n",
      "V206              139631 non-null float64\n",
      "V207              139631 non-null float64\n",
      "V208              139819 non-null float64\n",
      "V209              139819 non-null float64\n",
      "V210              139819 non-null float64\n",
      "V211              139631 non-null float64\n",
      "V212              139631 non-null float64\n",
      "V213              139631 non-null float64\n",
      "V214              139631 non-null float64\n",
      "V215              139631 non-null float64\n",
      "V216              139631 non-null float64\n",
      "V217              130430 non-null float64\n",
      "V218              130430 non-null float64\n",
      "V219              130430 non-null float64\n",
      "V220              141416 non-null float64\n",
      "V221              141416 non-null float64\n",
      "V222              141416 non-null float64\n",
      "V223              130430 non-null float64\n",
      "V224              130430 non-null float64\n",
      "V225              130430 non-null float64\n",
      "V226              130430 non-null float64\n",
      "V227              141416 non-null float64\n",
      "V228              130430 non-null float64\n",
      "V229              130430 non-null float64\n",
      "V230              130430 non-null float64\n",
      "V231              130430 non-null float64\n",
      "V232              130430 non-null float64\n",
      "V233              130430 non-null float64\n",
      "V234              141416 non-null float64\n",
      "V235              130430 non-null float64\n",
      "V236              130430 non-null float64\n",
      "V237              130430 non-null float64\n",
      "V238              141416 non-null float64\n",
      "V239              141416 non-null float64\n",
      "V240              130430 non-null float64\n",
      "V241              130430 non-null float64\n",
      "V242              130430 non-null float64\n",
      "V243              130430 non-null float64\n",
      "V244              130430 non-null float64\n",
      "V245              141416 non-null float64\n",
      "V246              130430 non-null float64\n",
      "V247              130430 non-null float64\n",
      "V248              130430 non-null float64\n",
      "V249              130430 non-null float64\n",
      "V250              141416 non-null float64\n",
      "V251              141416 non-null float64\n",
      "V252              130430 non-null float64\n",
      "V253              130430 non-null float64\n",
      "V254              130430 non-null float64\n",
      "V255              141416 non-null float64\n",
      "V256              141416 non-null float64\n",
      "V257              130430 non-null float64\n",
      "V258              130430 non-null float64\n",
      "V259              141416 non-null float64\n",
      "V260              130430 non-null float64\n",
      "V261              130430 non-null float64\n",
      "V262              130430 non-null float64\n",
      "V263              130430 non-null float64\n",
      "V264              130430 non-null float64\n",
      "V265              130430 non-null float64\n",
      "V266              130430 non-null float64\n",
      "V267              130430 non-null float64\n",
      "V268              130430 non-null float64\n",
      "V269              130430 non-null float64\n",
      "V270              141416 non-null float64\n",
      "V271              141416 non-null float64\n",
      "V272              141416 non-null float64\n",
      "V273              130430 non-null float64\n",
      "V274              130430 non-null float64\n",
      "V275              130430 non-null float64\n",
      "V276              130430 non-null float64\n",
      "V277              130430 non-null float64\n",
      "V278              130430 non-null float64\n",
      "V279              590528 non-null float64\n",
      "V280              590528 non-null float64\n",
      "V281              589271 non-null float64\n",
      "V282              589271 non-null float64\n",
      "V283              589271 non-null float64\n",
      "V284              590528 non-null float64\n",
      "V285              590528 non-null float64\n",
      "V286              590528 non-null float64\n",
      "V287              590528 non-null float64\n",
      "V288              589271 non-null float64\n",
      "V289              589271 non-null float64\n",
      "V290              590528 non-null float64\n",
      "V291              590528 non-null float64\n",
      "V292              590528 non-null float64\n",
      "V293              590528 non-null float64\n",
      "V294              590528 non-null float64\n",
      "V295              590528 non-null float64\n",
      "V296              589271 non-null float64\n",
      "V297              590528 non-null float64\n",
      "V298              590528 non-null float64\n",
      "V299              590528 non-null float64\n",
      "V300              589271 non-null float64\n",
      "V301              589271 non-null float64\n",
      "V302              590528 non-null float64\n",
      "V303              590528 non-null float64\n",
      "V304              590528 non-null float64\n",
      "V305              590528 non-null float64\n",
      "V306              590528 non-null float64\n",
      "V307              590528 non-null float64\n",
      "V308              590528 non-null float64\n",
      "V309              590528 non-null float64\n",
      "V310              590528 non-null float64\n",
      "V311              590528 non-null float64\n",
      "V312              590528 non-null float64\n",
      "V313              589271 non-null float64\n",
      "V314              589271 non-null float64\n",
      "V315              589271 non-null float64\n",
      "V316              590528 non-null float64\n",
      "V317              590528 non-null float64\n",
      "V318              590528 non-null float64\n",
      "V319              590528 non-null float64\n",
      "V320              590528 non-null float64\n",
      "V321              590528 non-null float64\n",
      "V322              82351 non-null float64\n",
      "V323              82351 non-null float64\n",
      "V324              82351 non-null float64\n",
      "V325              82351 non-null float64\n",
      "V326              82351 non-null float64\n",
      "V327              82351 non-null float64\n",
      "V328              82351 non-null float64\n",
      "V329              82351 non-null float64\n",
      "V330              82351 non-null float64\n",
      "V331              82351 non-null float64\n",
      "V332              82351 non-null float64\n",
      "V333              82351 non-null float64\n",
      "V334              82351 non-null float64\n",
      "V335              82351 non-null float64\n",
      "V336              82351 non-null float64\n",
      "V337              82351 non-null float64\n",
      "V338              82351 non-null float64\n",
      "V339              82351 non-null float64\n",
      "id_01             144233 non-null float64\n",
      "id_02             140872 non-null float64\n",
      "id_03             66324 non-null float64\n",
      "id_04             66324 non-null float64\n",
      "id_05             136865 non-null float64\n",
      "id_06             136865 non-null float64\n",
      "id_07             5155 non-null float64\n",
      "id_08             5155 non-null float64\n",
      "id_09             74926 non-null float64\n",
      "id_10             74926 non-null float64\n",
      "id_11             140978 non-null float64\n",
      "id_12             144233 non-null object\n",
      "id_13             127320 non-null float64\n",
      "id_14             80044 non-null float64\n",
      "id_15             140985 non-null object\n",
      "id_16             129340 non-null object\n",
      "id_17             139369 non-null float64\n",
      "id_18             45113 non-null float64\n",
      "id_19             139318 non-null float64\n",
      "id_20             139261 non-null float64\n",
      "id_21             5159 non-null float64\n",
      "id_22             5169 non-null float64\n",
      "id_23             5169 non-null object\n",
      "id_24             4747 non-null float64\n",
      "id_25             5132 non-null float64\n",
      "id_26             5163 non-null float64\n",
      "id_27             5169 non-null object\n",
      "id_28             140978 non-null object\n",
      "id_29             140978 non-null object\n",
      "id_30             77565 non-null object\n",
      "id_31             140282 non-null object\n",
      "id_32             77586 non-null float64\n",
      "id_33             73289 non-null object\n",
      "id_34             77805 non-null object\n",
      "id_35             140985 non-null object\n",
      "id_36             140985 non-null object\n",
      "id_37             140985 non-null object\n",
      "id_38             140985 non-null object\n",
      "DeviceType        140810 non-null object\n",
      "DeviceInfo        118666 non-null object\n",
      "day               590540 non-null int64\n",
      "hours             590540 non-null int64\n",
      "dtypes: float64(399), int64(6), object(31)\n",
      "memory usage: 1.9+ GB\n"
     ]
    }
   ],
   "source": [
    "merged_required.info(verbose=True, null_counts=True)"
   ]
  },
  {
   "cell_type": "code",
   "execution_count": 106,
   "metadata": {},
   "outputs": [],
   "source": [
    "merged_required.drop(['id_23','id_27','id_30','id_31','id_33','id_34'], axis = 1, inplace=True) "
   ]
  },
  {
   "cell_type": "code",
   "execution_count": 107,
   "metadata": {},
   "outputs": [
    {
     "data": {
      "text/plain": [
       "{dtype('int64'): Index(['TransactionID', 'isFraud', 'TransactionDT', 'card1', 'day', 'hours'], dtype='object'),\n",
       " dtype('float64'): Index(['TransactionAmt', 'card2', 'card3', 'card5', 'addr1', 'addr2', 'dist1',\n",
       "        'dist2', 'C1', 'C2',\n",
       "        ...\n",
       "        'id_17', 'id_18', 'id_19', 'id_20', 'id_21', 'id_22', 'id_24', 'id_25',\n",
       "        'id_26', 'id_32'],\n",
       "       dtype='object', length=399),\n",
       " dtype('O'): Index(['ProductCD', 'card4', 'card6', 'P_emaildomain', 'R_emaildomain', 'M1',\n",
       "        'M2', 'M3', 'M4', 'M5', 'M6', 'M7', 'M8', 'M9', 'id_12', 'id_15',\n",
       "        'id_16', 'id_28', 'id_29', 'id_35', 'id_36', 'id_37', 'id_38',\n",
       "        'DeviceType', 'DeviceInfo'],\n",
       "       dtype='object')}"
      ]
     },
     "execution_count": 107,
     "metadata": {},
     "output_type": "execute_result"
    }
   ],
   "source": [
    "dtype_groups = merged_required.columns.to_series().groupby(merged_required.dtypes).groups\n",
    "dtype_groups"
   ]
  },
  {
   "cell_type": "code",
   "execution_count": 108,
   "metadata": {},
   "outputs": [],
   "source": [
    "for k, v in dtype_groups.items():\n",
    "    if (k.name == 'int64' or k.name == 'float64'):\n",
    "        for eachVal in v:\n",
    "            merged_required[eachVal].fillna(np.nanmedian(merged_required[eachVal]), inplace=True)"
   ]
  },
  {
   "cell_type": "code",
   "execution_count": 109,
   "metadata": {},
   "outputs": [
    {
     "name": "stdout",
     "output_type": "stream",
     "text": [
      "   TransactionID  isFraud  TransactionDT  TransactionAmt ProductCD  card1  \\\n",
      "0        2987000        0          86400            68.5         W  13926   \n",
      "1        2987001        0          86401            29.0         W   2755   \n",
      "2        2987002        0          86469            59.0         W   4663   \n",
      "3        2987003        0          86499            50.0         W  18132   \n",
      "4        2987004        0          86506            50.0         H   4497   \n",
      "\n",
      "   card2  card3       card4  card5  ...     id_29  id_32  id_35  id_36  id_37  \\\n",
      "0  361.0  150.0    discover  142.0  ...         J   24.0      A      A      A   \n",
      "1  404.0  150.0  mastercard  102.0  ...         J   24.0      A      A      A   \n",
      "2  490.0  150.0        visa  166.0  ...         J   24.0      A      A      A   \n",
      "3  567.0  150.0  mastercard  117.0  ...         J   24.0      A      A      A   \n",
      "4  514.0  150.0  mastercard  102.0  ...  NotFound   32.0      T      F      T   \n",
      "\n",
      "  id_38 DeviceType                     DeviceInfo  day  hours  \n",
      "0     A          Z                              Y    2      0  \n",
      "1     A          Z                              Y    2      0  \n",
      "2     A          Z                              Y    2      0  \n",
      "3     A          Z                              Y    2      0  \n",
      "4     T     mobile  SAMSUNG SM-G892A Build/NRD90M    2      0  \n",
      "\n",
      "[5 rows x 430 columns]\n"
     ]
    }
   ],
   "source": [
    "merged_required[\"ProductCD\"].fillna(\"T\", inplace = True)\n",
    "merged_required[\"card4\"].fillna(\"U\", inplace = True)\n",
    "merged_required[\"card6\"].fillna(\"V\", inplace = True)\n",
    "merged_required[\"P_emaildomain\"].fillna(\"B\", inplace = True)\n",
    "merged_required[\"R_emaildomain\"].fillna(\"X\", inplace = True)\n",
    "merged_required[\"DeviceInfo\"].fillna(\"Y\", inplace = True)\n",
    "merged_required[\"DeviceType\"].fillna(\"Z\", inplace = True)\n",
    "merged_required[\"M1\"].fillna(\"A\", inplace = True)\n",
    "merged_required[\"M2\"].fillna(\"A\", inplace = True)\n",
    "merged_required[\"M3\"].fillna(\"A\", inplace = True)\n",
    "merged_required[\"M4\"].fillna(\"A\", inplace = True)\n",
    "merged_required[\"M5\"].fillna(\"A\", inplace = True)\n",
    "merged_required[\"M6\"].fillna(\"A\", inplace = True)\n",
    "merged_required[\"M7\"].fillna(\"A\", inplace = True)\n",
    "merged_required[\"M8\"].fillna(\"A\", inplace = True)\n",
    "merged_required[\"M9\"].fillna(\"A\", inplace = True)\n",
    "\n",
    "\n",
    "merged_required[\"id_12\"].fillna(\"D\", inplace = True)\n",
    "merged_required[\"id_15\"].fillna(\"E\", inplace = True)\n",
    "merged_required[\"id_16\"].fillna(\"D\", inplace = True)\n",
    "merged_required[\"id_28\"].fillna(\"I\", inplace = True)\n",
    "merged_required[\"id_29\"].fillna(\"J\", inplace = True)\n",
    "merged_required[\"id_35\"].fillna(\"A\", inplace = True)\n",
    "merged_required[\"id_36\"].fillna(\"A\", inplace = True)\n",
    "merged_required[\"id_37\"].fillna(\"A\", inplace = True)\n",
    "merged_required[\"id_38\"].fillna(\"A\", inplace = True)\n",
    "\n",
    "\n",
    "print(merged_required.head(5))"
   ]
  },
  {
   "cell_type": "code",
   "execution_count": 110,
   "metadata": {},
   "outputs": [
    {
     "data": {
      "text/html": [
       "<div>\n",
       "<style scoped>\n",
       "    .dataframe tbody tr th:only-of-type {\n",
       "        vertical-align: middle;\n",
       "    }\n",
       "\n",
       "    .dataframe tbody tr th {\n",
       "        vertical-align: top;\n",
       "    }\n",
       "\n",
       "    .dataframe thead th {\n",
       "        text-align: right;\n",
       "    }\n",
       "</style>\n",
       "<table border=\"1\" class=\"dataframe\">\n",
       "  <thead>\n",
       "    <tr style=\"text-align: right;\">\n",
       "      <th></th>\n",
       "      <th>TransactionID</th>\n",
       "      <th>isFraud</th>\n",
       "      <th>TransactionDT</th>\n",
       "      <th>TransactionAmt</th>\n",
       "      <th>ProductCD</th>\n",
       "      <th>card1</th>\n",
       "      <th>card2</th>\n",
       "      <th>card3</th>\n",
       "      <th>card4</th>\n",
       "      <th>card5</th>\n",
       "      <th>...</th>\n",
       "      <th>id_29</th>\n",
       "      <th>id_32</th>\n",
       "      <th>id_35</th>\n",
       "      <th>id_36</th>\n",
       "      <th>id_37</th>\n",
       "      <th>id_38</th>\n",
       "      <th>DeviceType</th>\n",
       "      <th>DeviceInfo</th>\n",
       "      <th>day</th>\n",
       "      <th>hours</th>\n",
       "    </tr>\n",
       "  </thead>\n",
       "  <tbody>\n",
       "    <tr>\n",
       "      <th>0</th>\n",
       "      <td>2987000</td>\n",
       "      <td>0</td>\n",
       "      <td>86400</td>\n",
       "      <td>68.5</td>\n",
       "      <td>4</td>\n",
       "      <td>13926</td>\n",
       "      <td>361.0</td>\n",
       "      <td>150.0</td>\n",
       "      <td>2</td>\n",
       "      <td>142.0</td>\n",
       "      <td>...</td>\n",
       "      <td>1</td>\n",
       "      <td>24.0</td>\n",
       "      <td>0</td>\n",
       "      <td>0</td>\n",
       "      <td>0</td>\n",
       "      <td>0</td>\n",
       "      <td>0</td>\n",
       "      <td>Y</td>\n",
       "      <td>2</td>\n",
       "      <td>0</td>\n",
       "    </tr>\n",
       "    <tr>\n",
       "      <th>1</th>\n",
       "      <td>2987001</td>\n",
       "      <td>0</td>\n",
       "      <td>86401</td>\n",
       "      <td>29.0</td>\n",
       "      <td>4</td>\n",
       "      <td>2755</td>\n",
       "      <td>404.0</td>\n",
       "      <td>150.0</td>\n",
       "      <td>3</td>\n",
       "      <td>102.0</td>\n",
       "      <td>...</td>\n",
       "      <td>1</td>\n",
       "      <td>24.0</td>\n",
       "      <td>0</td>\n",
       "      <td>0</td>\n",
       "      <td>0</td>\n",
       "      <td>0</td>\n",
       "      <td>0</td>\n",
       "      <td>Y</td>\n",
       "      <td>2</td>\n",
       "      <td>0</td>\n",
       "    </tr>\n",
       "    <tr>\n",
       "      <th>2</th>\n",
       "      <td>2987002</td>\n",
       "      <td>0</td>\n",
       "      <td>86469</td>\n",
       "      <td>59.0</td>\n",
       "      <td>4</td>\n",
       "      <td>4663</td>\n",
       "      <td>490.0</td>\n",
       "      <td>150.0</td>\n",
       "      <td>4</td>\n",
       "      <td>166.0</td>\n",
       "      <td>...</td>\n",
       "      <td>1</td>\n",
       "      <td>24.0</td>\n",
       "      <td>0</td>\n",
       "      <td>0</td>\n",
       "      <td>0</td>\n",
       "      <td>0</td>\n",
       "      <td>0</td>\n",
       "      <td>Y</td>\n",
       "      <td>2</td>\n",
       "      <td>0</td>\n",
       "    </tr>\n",
       "    <tr>\n",
       "      <th>3</th>\n",
       "      <td>2987003</td>\n",
       "      <td>0</td>\n",
       "      <td>86499</td>\n",
       "      <td>50.0</td>\n",
       "      <td>4</td>\n",
       "      <td>18132</td>\n",
       "      <td>567.0</td>\n",
       "      <td>150.0</td>\n",
       "      <td>3</td>\n",
       "      <td>117.0</td>\n",
       "      <td>...</td>\n",
       "      <td>1</td>\n",
       "      <td>24.0</td>\n",
       "      <td>0</td>\n",
       "      <td>0</td>\n",
       "      <td>0</td>\n",
       "      <td>0</td>\n",
       "      <td>0</td>\n",
       "      <td>Y</td>\n",
       "      <td>2</td>\n",
       "      <td>0</td>\n",
       "    </tr>\n",
       "    <tr>\n",
       "      <th>4</th>\n",
       "      <td>2987004</td>\n",
       "      <td>0</td>\n",
       "      <td>86506</td>\n",
       "      <td>50.0</td>\n",
       "      <td>1</td>\n",
       "      <td>4497</td>\n",
       "      <td>514.0</td>\n",
       "      <td>150.0</td>\n",
       "      <td>3</td>\n",
       "      <td>102.0</td>\n",
       "      <td>...</td>\n",
       "      <td>2</td>\n",
       "      <td>32.0</td>\n",
       "      <td>2</td>\n",
       "      <td>1</td>\n",
       "      <td>2</td>\n",
       "      <td>2</td>\n",
       "      <td>2</td>\n",
       "      <td>SAMSUNG SM-G892A Build/NRD90M</td>\n",
       "      <td>2</td>\n",
       "      <td>0</td>\n",
       "    </tr>\n",
       "  </tbody>\n",
       "</table>\n",
       "<p>5 rows × 430 columns</p>\n",
       "</div>"
      ],
      "text/plain": [
       "   TransactionID  isFraud  TransactionDT  TransactionAmt  ProductCD  card1  \\\n",
       "0        2987000        0          86400            68.5          4  13926   \n",
       "1        2987001        0          86401            29.0          4   2755   \n",
       "2        2987002        0          86469            59.0          4   4663   \n",
       "3        2987003        0          86499            50.0          4  18132   \n",
       "4        2987004        0          86506            50.0          1   4497   \n",
       "\n",
       "   card2  card3  card4  card5  ...  id_29  id_32  id_35  id_36  id_37 id_38  \\\n",
       "0  361.0  150.0      2  142.0  ...      1   24.0      0      0      0     0   \n",
       "1  404.0  150.0      3  102.0  ...      1   24.0      0      0      0     0   \n",
       "2  490.0  150.0      4  166.0  ...      1   24.0      0      0      0     0   \n",
       "3  567.0  150.0      3  117.0  ...      1   24.0      0      0      0     0   \n",
       "4  514.0  150.0      3  102.0  ...      2   32.0      2      1      2     2   \n",
       "\n",
       "  DeviceType                     DeviceInfo  day  hours  \n",
       "0          0                              Y    2      0  \n",
       "1          0                              Y    2      0  \n",
       "2          0                              Y    2      0  \n",
       "3          0                              Y    2      0  \n",
       "4          2  SAMSUNG SM-G892A Build/NRD90M    2      0  \n",
       "\n",
       "[5 rows x 430 columns]"
      ]
     },
     "execution_count": 110,
     "metadata": {},
     "output_type": "execute_result"
    }
   ],
   "source": [
    "#References: https://scikit-learn.org/stable/modules/generated/sklearn.preprocessing.LabelEncoder.html\n",
    "from sklearn.preprocessing import LabelEncoder\n",
    "\n",
    "label_encod = LabelEncoder()\n",
    "for each_col in ['M1','M2','M3', 'M4', 'M5', 'M6', 'M7', 'M8', 'M9','ProductCD','card4','card6','DeviceType',\n",
    "                'id_12','id_15','id_16','id_28','id_29','id_35','id_36','id_37','id_38']:\n",
    "    each_col_unique = np.unique(merged_required[each_col])\n",
    "    each_col_labels = label_encod.fit_transform(merged_required[each_col])\n",
    "    merged_required[each_col] = each_col_labels\n",
    "merged_required.head(5)"
   ]
  },
  {
   "cell_type": "code",
   "execution_count": 111,
   "metadata": {},
   "outputs": [
    {
     "data": {
      "text/html": [
       "<div>\n",
       "<style scoped>\n",
       "    .dataframe tbody tr th:only-of-type {\n",
       "        vertical-align: middle;\n",
       "    }\n",
       "\n",
       "    .dataframe tbody tr th {\n",
       "        vertical-align: top;\n",
       "    }\n",
       "\n",
       "    .dataframe thead th {\n",
       "        text-align: right;\n",
       "    }\n",
       "</style>\n",
       "<table border=\"1\" class=\"dataframe\">\n",
       "  <thead>\n",
       "    <tr style=\"text-align: right;\">\n",
       "      <th></th>\n",
       "      <th>TransactionID</th>\n",
       "      <th>isFraud</th>\n",
       "      <th>TransactionDT</th>\n",
       "      <th>TransactionAmt</th>\n",
       "      <th>ProductCD</th>\n",
       "      <th>card1</th>\n",
       "      <th>card2</th>\n",
       "      <th>card3</th>\n",
       "      <th>card4</th>\n",
       "      <th>card5</th>\n",
       "      <th>...</th>\n",
       "      <th>id_29</th>\n",
       "      <th>id_32</th>\n",
       "      <th>id_35</th>\n",
       "      <th>id_36</th>\n",
       "      <th>id_37</th>\n",
       "      <th>id_38</th>\n",
       "      <th>DeviceType</th>\n",
       "      <th>DeviceInfo</th>\n",
       "      <th>day</th>\n",
       "      <th>hours</th>\n",
       "    </tr>\n",
       "  </thead>\n",
       "  <tbody>\n",
       "    <tr>\n",
       "      <th>0</th>\n",
       "      <td>2987000</td>\n",
       "      <td>0</td>\n",
       "      <td>86400</td>\n",
       "      <td>68.5</td>\n",
       "      <td>4</td>\n",
       "      <td>13926</td>\n",
       "      <td>361.0</td>\n",
       "      <td>150.0</td>\n",
       "      <td>2</td>\n",
       "      <td>142.0</td>\n",
       "      <td>...</td>\n",
       "      <td>1</td>\n",
       "      <td>24.0</td>\n",
       "      <td>0</td>\n",
       "      <td>0</td>\n",
       "      <td>0</td>\n",
       "      <td>0</td>\n",
       "      <td>0</td>\n",
       "      <td>Y</td>\n",
       "      <td>2</td>\n",
       "      <td>0</td>\n",
       "    </tr>\n",
       "    <tr>\n",
       "      <th>1</th>\n",
       "      <td>2987001</td>\n",
       "      <td>0</td>\n",
       "      <td>86401</td>\n",
       "      <td>29.0</td>\n",
       "      <td>4</td>\n",
       "      <td>2755</td>\n",
       "      <td>404.0</td>\n",
       "      <td>150.0</td>\n",
       "      <td>3</td>\n",
       "      <td>102.0</td>\n",
       "      <td>...</td>\n",
       "      <td>1</td>\n",
       "      <td>24.0</td>\n",
       "      <td>0</td>\n",
       "      <td>0</td>\n",
       "      <td>0</td>\n",
       "      <td>0</td>\n",
       "      <td>0</td>\n",
       "      <td>Y</td>\n",
       "      <td>2</td>\n",
       "      <td>0</td>\n",
       "    </tr>\n",
       "    <tr>\n",
       "      <th>2</th>\n",
       "      <td>2987002</td>\n",
       "      <td>0</td>\n",
       "      <td>86469</td>\n",
       "      <td>59.0</td>\n",
       "      <td>4</td>\n",
       "      <td>4663</td>\n",
       "      <td>490.0</td>\n",
       "      <td>150.0</td>\n",
       "      <td>4</td>\n",
       "      <td>166.0</td>\n",
       "      <td>...</td>\n",
       "      <td>1</td>\n",
       "      <td>24.0</td>\n",
       "      <td>0</td>\n",
       "      <td>0</td>\n",
       "      <td>0</td>\n",
       "      <td>0</td>\n",
       "      <td>0</td>\n",
       "      <td>Y</td>\n",
       "      <td>2</td>\n",
       "      <td>0</td>\n",
       "    </tr>\n",
       "    <tr>\n",
       "      <th>3</th>\n",
       "      <td>2987003</td>\n",
       "      <td>0</td>\n",
       "      <td>86499</td>\n",
       "      <td>50.0</td>\n",
       "      <td>4</td>\n",
       "      <td>18132</td>\n",
       "      <td>567.0</td>\n",
       "      <td>150.0</td>\n",
       "      <td>3</td>\n",
       "      <td>117.0</td>\n",
       "      <td>...</td>\n",
       "      <td>1</td>\n",
       "      <td>24.0</td>\n",
       "      <td>0</td>\n",
       "      <td>0</td>\n",
       "      <td>0</td>\n",
       "      <td>0</td>\n",
       "      <td>0</td>\n",
       "      <td>Y</td>\n",
       "      <td>2</td>\n",
       "      <td>0</td>\n",
       "    </tr>\n",
       "    <tr>\n",
       "      <th>4</th>\n",
       "      <td>2987004</td>\n",
       "      <td>0</td>\n",
       "      <td>86506</td>\n",
       "      <td>50.0</td>\n",
       "      <td>1</td>\n",
       "      <td>4497</td>\n",
       "      <td>514.0</td>\n",
       "      <td>150.0</td>\n",
       "      <td>3</td>\n",
       "      <td>102.0</td>\n",
       "      <td>...</td>\n",
       "      <td>2</td>\n",
       "      <td>32.0</td>\n",
       "      <td>2</td>\n",
       "      <td>1</td>\n",
       "      <td>2</td>\n",
       "      <td>2</td>\n",
       "      <td>2</td>\n",
       "      <td>SAMSUNG SM-G892A Build/NRD90M</td>\n",
       "      <td>2</td>\n",
       "      <td>0</td>\n",
       "    </tr>\n",
       "  </tbody>\n",
       "</table>\n",
       "<p>5 rows × 430 columns</p>\n",
       "</div>"
      ],
      "text/plain": [
       "   TransactionID  isFraud  TransactionDT  TransactionAmt  ProductCD  card1  \\\n",
       "0        2987000        0          86400            68.5          4  13926   \n",
       "1        2987001        0          86401            29.0          4   2755   \n",
       "2        2987002        0          86469            59.0          4   4663   \n",
       "3        2987003        0          86499            50.0          4  18132   \n",
       "4        2987004        0          86506            50.0          1   4497   \n",
       "\n",
       "   card2  card3  card4  card5  ...  id_29  id_32  id_35  id_36  id_37 id_38  \\\n",
       "0  361.0  150.0      2  142.0  ...      1   24.0      0      0      0     0   \n",
       "1  404.0  150.0      3  102.0  ...      1   24.0      0      0      0     0   \n",
       "2  490.0  150.0      4  166.0  ...      1   24.0      0      0      0     0   \n",
       "3  567.0  150.0      3  117.0  ...      1   24.0      0      0      0     0   \n",
       "4  514.0  150.0      3  102.0  ...      2   32.0      2      1      2     2   \n",
       "\n",
       "  DeviceType                     DeviceInfo  day  hours  \n",
       "0          0                              Y    2      0  \n",
       "1          0                              Y    2      0  \n",
       "2          0                              Y    2      0  \n",
       "3          0                              Y    2      0  \n",
       "4          2  SAMSUNG SM-G892A Build/NRD90M    2      0  \n",
       "\n",
       "[5 rows x 430 columns]"
      ]
     },
     "execution_count": 111,
     "metadata": {},
     "output_type": "execute_result"
    }
   ],
   "source": [
    "merged_required.head(5)"
   ]
  },
  {
   "cell_type": "code",
   "execution_count": 112,
   "metadata": {},
   "outputs": [
    {
     "data": {
      "text/html": [
       "<div>\n",
       "<style scoped>\n",
       "    .dataframe tbody tr th:only-of-type {\n",
       "        vertical-align: middle;\n",
       "    }\n",
       "\n",
       "    .dataframe tbody tr th {\n",
       "        vertical-align: top;\n",
       "    }\n",
       "\n",
       "    .dataframe thead th {\n",
       "        text-align: right;\n",
       "    }\n",
       "</style>\n",
       "<table border=\"1\" class=\"dataframe\">\n",
       "  <thead>\n",
       "    <tr style=\"text-align: right;\">\n",
       "      <th></th>\n",
       "      <th>TransactionID</th>\n",
       "      <th>isFraud</th>\n",
       "      <th>TransactionDT</th>\n",
       "      <th>TransactionAmt</th>\n",
       "      <th>ProductCD</th>\n",
       "      <th>card1</th>\n",
       "      <th>card2</th>\n",
       "      <th>card3</th>\n",
       "      <th>card4</th>\n",
       "      <th>card5</th>\n",
       "      <th>...</th>\n",
       "      <th>DeviceType</th>\n",
       "      <th>DeviceInfo</th>\n",
       "      <th>day</th>\n",
       "      <th>hours</th>\n",
       "      <th>ped1</th>\n",
       "      <th>ped2</th>\n",
       "      <th>ped3</th>\n",
       "      <th>ped4</th>\n",
       "      <th>ped5</th>\n",
       "      <th>ped6</th>\n",
       "    </tr>\n",
       "  </thead>\n",
       "  <tbody>\n",
       "    <tr>\n",
       "      <th>0</th>\n",
       "      <td>2987000</td>\n",
       "      <td>0</td>\n",
       "      <td>86400</td>\n",
       "      <td>68.5</td>\n",
       "      <td>4</td>\n",
       "      <td>13926</td>\n",
       "      <td>361.0</td>\n",
       "      <td>150.0</td>\n",
       "      <td>2</td>\n",
       "      <td>142.0</td>\n",
       "      <td>...</td>\n",
       "      <td>0</td>\n",
       "      <td>Y</td>\n",
       "      <td>2</td>\n",
       "      <td>0</td>\n",
       "      <td>0.0</td>\n",
       "      <td>0.0</td>\n",
       "      <td>-1.0</td>\n",
       "      <td>0.0</td>\n",
       "      <td>0.0</td>\n",
       "      <td>0.0</td>\n",
       "    </tr>\n",
       "    <tr>\n",
       "      <th>1</th>\n",
       "      <td>2987001</td>\n",
       "      <td>0</td>\n",
       "      <td>86401</td>\n",
       "      <td>29.0</td>\n",
       "      <td>4</td>\n",
       "      <td>2755</td>\n",
       "      <td>404.0</td>\n",
       "      <td>150.0</td>\n",
       "      <td>3</td>\n",
       "      <td>102.0</td>\n",
       "      <td>...</td>\n",
       "      <td>0</td>\n",
       "      <td>Y</td>\n",
       "      <td>2</td>\n",
       "      <td>0</td>\n",
       "      <td>0.0</td>\n",
       "      <td>1.0</td>\n",
       "      <td>1.0</td>\n",
       "      <td>-1.0</td>\n",
       "      <td>2.0</td>\n",
       "      <td>-2.0</td>\n",
       "    </tr>\n",
       "    <tr>\n",
       "      <th>2</th>\n",
       "      <td>2987002</td>\n",
       "      <td>0</td>\n",
       "      <td>86469</td>\n",
       "      <td>59.0</td>\n",
       "      <td>4</td>\n",
       "      <td>4663</td>\n",
       "      <td>490.0</td>\n",
       "      <td>150.0</td>\n",
       "      <td>4</td>\n",
       "      <td>166.0</td>\n",
       "      <td>...</td>\n",
       "      <td>0</td>\n",
       "      <td>Y</td>\n",
       "      <td>2</td>\n",
       "      <td>0</td>\n",
       "      <td>0.0</td>\n",
       "      <td>4.0</td>\n",
       "      <td>1.0</td>\n",
       "      <td>-1.0</td>\n",
       "      <td>2.0</td>\n",
       "      <td>-3.0</td>\n",
       "    </tr>\n",
       "    <tr>\n",
       "      <th>3</th>\n",
       "      <td>2987003</td>\n",
       "      <td>0</td>\n",
       "      <td>86499</td>\n",
       "      <td>50.0</td>\n",
       "      <td>4</td>\n",
       "      <td>18132</td>\n",
       "      <td>567.0</td>\n",
       "      <td>150.0</td>\n",
       "      <td>3</td>\n",
       "      <td>117.0</td>\n",
       "      <td>...</td>\n",
       "      <td>0</td>\n",
       "      <td>Y</td>\n",
       "      <td>2</td>\n",
       "      <td>0</td>\n",
       "      <td>0.0</td>\n",
       "      <td>3.0</td>\n",
       "      <td>1.0</td>\n",
       "      <td>0.0</td>\n",
       "      <td>2.0</td>\n",
       "      <td>-3.0</td>\n",
       "    </tr>\n",
       "    <tr>\n",
       "      <th>4</th>\n",
       "      <td>2987004</td>\n",
       "      <td>0</td>\n",
       "      <td>86506</td>\n",
       "      <td>50.0</td>\n",
       "      <td>1</td>\n",
       "      <td>4497</td>\n",
       "      <td>514.0</td>\n",
       "      <td>150.0</td>\n",
       "      <td>3</td>\n",
       "      <td>102.0</td>\n",
       "      <td>...</td>\n",
       "      <td>2</td>\n",
       "      <td>SAMSUNG SM-G892A Build/NRD90M</td>\n",
       "      <td>2</td>\n",
       "      <td>0</td>\n",
       "      <td>0.0</td>\n",
       "      <td>1.0</td>\n",
       "      <td>1.0</td>\n",
       "      <td>-1.0</td>\n",
       "      <td>2.0</td>\n",
       "      <td>-2.0</td>\n",
       "    </tr>\n",
       "  </tbody>\n",
       "</table>\n",
       "<p>5 rows × 436 columns</p>\n",
       "</div>"
      ],
      "text/plain": [
       "   TransactionID  isFraud  TransactionDT  TransactionAmt  ProductCD  card1  \\\n",
       "0        2987000        0          86400            68.5          4  13926   \n",
       "1        2987001        0          86401            29.0          4   2755   \n",
       "2        2987002        0          86469            59.0          4   4663   \n",
       "3        2987003        0          86499            50.0          4  18132   \n",
       "4        2987004        0          86506            50.0          1   4497   \n",
       "\n",
       "   card2  card3  card4  card5  ...  DeviceType                     DeviceInfo  \\\n",
       "0  361.0  150.0      2  142.0  ...           0                              Y   \n",
       "1  404.0  150.0      3  102.0  ...           0                              Y   \n",
       "2  490.0  150.0      4  166.0  ...           0                              Y   \n",
       "3  567.0  150.0      3  117.0  ...           0                              Y   \n",
       "4  514.0  150.0      3  102.0  ...           2  SAMSUNG SM-G892A Build/NRD90M   \n",
       "\n",
       "   day  hours  ped1 ped2 ped3  ped4  ped5  ped6  \n",
       "0    2      0   0.0  0.0 -1.0   0.0   0.0   0.0  \n",
       "1    2      0   0.0  1.0  1.0  -1.0   2.0  -2.0  \n",
       "2    2      0   0.0  4.0  1.0  -1.0   2.0  -3.0  \n",
       "3    2      0   0.0  3.0  1.0   0.0   2.0  -3.0  \n",
       "4    2      0   0.0  1.0  1.0  -1.0   2.0  -2.0  \n",
       "\n",
       "[5 rows x 436 columns]"
      ]
     },
     "execution_count": 112,
     "metadata": {},
     "output_type": "execute_result"
    }
   ],
   "source": [
    "# References: https://scikit-learn.org/stable/modules/generated/sklearn.feature_extraction.FeatureHasher.html\n",
    "from sklearn.feature_extraction import FeatureHasher\n",
    "\n",
    "fh = FeatureHasher(n_features=6, input_type='string')\n",
    "hashed_features = fh.fit_transform(merged_required['P_emaildomain'])\n",
    "hashed_features = hashed_features.toarray()\n",
    "merged_required = pd.concat([merged_required, pd.DataFrame(hashed_features,columns = ['ped1','ped2','ped3','ped4','ped5','ped6'] \n",
    "          )],axis=1)\n",
    "merged_required.head(5)"
   ]
  },
  {
   "cell_type": "code",
   "execution_count": 113,
   "metadata": {},
   "outputs": [
    {
     "data": {
      "text/html": [
       "<div>\n",
       "<style scoped>\n",
       "    .dataframe tbody tr th:only-of-type {\n",
       "        vertical-align: middle;\n",
       "    }\n",
       "\n",
       "    .dataframe tbody tr th {\n",
       "        vertical-align: top;\n",
       "    }\n",
       "\n",
       "    .dataframe thead th {\n",
       "        text-align: right;\n",
       "    }\n",
       "</style>\n",
       "<table border=\"1\" class=\"dataframe\">\n",
       "  <thead>\n",
       "    <tr style=\"text-align: right;\">\n",
       "      <th></th>\n",
       "      <th>TransactionID</th>\n",
       "      <th>isFraud</th>\n",
       "      <th>TransactionDT</th>\n",
       "      <th>TransactionAmt</th>\n",
       "      <th>ProductCD</th>\n",
       "      <th>card1</th>\n",
       "      <th>card2</th>\n",
       "      <th>card3</th>\n",
       "      <th>card4</th>\n",
       "      <th>card5</th>\n",
       "      <th>...</th>\n",
       "      <th>ped3</th>\n",
       "      <th>ped4</th>\n",
       "      <th>ped5</th>\n",
       "      <th>ped6</th>\n",
       "      <th>red1</th>\n",
       "      <th>red2</th>\n",
       "      <th>red3</th>\n",
       "      <th>red4</th>\n",
       "      <th>red5</th>\n",
       "      <th>red6</th>\n",
       "    </tr>\n",
       "  </thead>\n",
       "  <tbody>\n",
       "    <tr>\n",
       "      <th>0</th>\n",
       "      <td>2987000</td>\n",
       "      <td>0</td>\n",
       "      <td>86400</td>\n",
       "      <td>68.5</td>\n",
       "      <td>4</td>\n",
       "      <td>13926</td>\n",
       "      <td>361.0</td>\n",
       "      <td>150.0</td>\n",
       "      <td>2</td>\n",
       "      <td>142.0</td>\n",
       "      <td>...</td>\n",
       "      <td>-1.0</td>\n",
       "      <td>0.0</td>\n",
       "      <td>0.0</td>\n",
       "      <td>0.0</td>\n",
       "      <td>0.0</td>\n",
       "      <td>0.0</td>\n",
       "      <td>1.0</td>\n",
       "      <td>0.0</td>\n",
       "      <td>0.0</td>\n",
       "      <td>0.0</td>\n",
       "    </tr>\n",
       "    <tr>\n",
       "      <th>1</th>\n",
       "      <td>2987001</td>\n",
       "      <td>0</td>\n",
       "      <td>86401</td>\n",
       "      <td>29.0</td>\n",
       "      <td>4</td>\n",
       "      <td>2755</td>\n",
       "      <td>404.0</td>\n",
       "      <td>150.0</td>\n",
       "      <td>3</td>\n",
       "      <td>102.0</td>\n",
       "      <td>...</td>\n",
       "      <td>1.0</td>\n",
       "      <td>-1.0</td>\n",
       "      <td>2.0</td>\n",
       "      <td>-2.0</td>\n",
       "      <td>0.0</td>\n",
       "      <td>0.0</td>\n",
       "      <td>1.0</td>\n",
       "      <td>0.0</td>\n",
       "      <td>0.0</td>\n",
       "      <td>0.0</td>\n",
       "    </tr>\n",
       "    <tr>\n",
       "      <th>2</th>\n",
       "      <td>2987002</td>\n",
       "      <td>0</td>\n",
       "      <td>86469</td>\n",
       "      <td>59.0</td>\n",
       "      <td>4</td>\n",
       "      <td>4663</td>\n",
       "      <td>490.0</td>\n",
       "      <td>150.0</td>\n",
       "      <td>4</td>\n",
       "      <td>166.0</td>\n",
       "      <td>...</td>\n",
       "      <td>1.0</td>\n",
       "      <td>-1.0</td>\n",
       "      <td>2.0</td>\n",
       "      <td>-3.0</td>\n",
       "      <td>0.0</td>\n",
       "      <td>0.0</td>\n",
       "      <td>1.0</td>\n",
       "      <td>0.0</td>\n",
       "      <td>0.0</td>\n",
       "      <td>0.0</td>\n",
       "    </tr>\n",
       "    <tr>\n",
       "      <th>3</th>\n",
       "      <td>2987003</td>\n",
       "      <td>0</td>\n",
       "      <td>86499</td>\n",
       "      <td>50.0</td>\n",
       "      <td>4</td>\n",
       "      <td>18132</td>\n",
       "      <td>567.0</td>\n",
       "      <td>150.0</td>\n",
       "      <td>3</td>\n",
       "      <td>117.0</td>\n",
       "      <td>...</td>\n",
       "      <td>1.0</td>\n",
       "      <td>0.0</td>\n",
       "      <td>2.0</td>\n",
       "      <td>-3.0</td>\n",
       "      <td>0.0</td>\n",
       "      <td>0.0</td>\n",
       "      <td>1.0</td>\n",
       "      <td>0.0</td>\n",
       "      <td>0.0</td>\n",
       "      <td>0.0</td>\n",
       "    </tr>\n",
       "    <tr>\n",
       "      <th>4</th>\n",
       "      <td>2987004</td>\n",
       "      <td>0</td>\n",
       "      <td>86506</td>\n",
       "      <td>50.0</td>\n",
       "      <td>1</td>\n",
       "      <td>4497</td>\n",
       "      <td>514.0</td>\n",
       "      <td>150.0</td>\n",
       "      <td>3</td>\n",
       "      <td>102.0</td>\n",
       "      <td>...</td>\n",
       "      <td>1.0</td>\n",
       "      <td>-1.0</td>\n",
       "      <td>2.0</td>\n",
       "      <td>-2.0</td>\n",
       "      <td>0.0</td>\n",
       "      <td>0.0</td>\n",
       "      <td>1.0</td>\n",
       "      <td>0.0</td>\n",
       "      <td>0.0</td>\n",
       "      <td>0.0</td>\n",
       "    </tr>\n",
       "  </tbody>\n",
       "</table>\n",
       "<p>5 rows × 442 columns</p>\n",
       "</div>"
      ],
      "text/plain": [
       "   TransactionID  isFraud  TransactionDT  TransactionAmt  ProductCD  card1  \\\n",
       "0        2987000        0          86400            68.5          4  13926   \n",
       "1        2987001        0          86401            29.0          4   2755   \n",
       "2        2987002        0          86469            59.0          4   4663   \n",
       "3        2987003        0          86499            50.0          4  18132   \n",
       "4        2987004        0          86506            50.0          1   4497   \n",
       "\n",
       "   card2  card3  card4  card5  ...  ped3  ped4  ped5  ped6  red1 red2 red3  \\\n",
       "0  361.0  150.0      2  142.0  ...  -1.0   0.0   0.0   0.0   0.0  0.0  1.0   \n",
       "1  404.0  150.0      3  102.0  ...   1.0  -1.0   2.0  -2.0   0.0  0.0  1.0   \n",
       "2  490.0  150.0      4  166.0  ...   1.0  -1.0   2.0  -3.0   0.0  0.0  1.0   \n",
       "3  567.0  150.0      3  117.0  ...   1.0   0.0   2.0  -3.0   0.0  0.0  1.0   \n",
       "4  514.0  150.0      3  102.0  ...   1.0  -1.0   2.0  -2.0   0.0  0.0  1.0   \n",
       "\n",
       "   red4  red5  red6  \n",
       "0   0.0   0.0   0.0  \n",
       "1   0.0   0.0   0.0  \n",
       "2   0.0   0.0   0.0  \n",
       "3   0.0   0.0   0.0  \n",
       "4   0.0   0.0   0.0  \n",
       "\n",
       "[5 rows x 442 columns]"
      ]
     },
     "execution_count": 113,
     "metadata": {},
     "output_type": "execute_result"
    }
   ],
   "source": [
    "hashed_features = fh.fit_transform(merged_required['R_emaildomain'])\n",
    "hashed_features = hashed_features.toarray()\n",
    "merged_required = pd.concat([merged_required, pd.DataFrame(hashed_features,columns = ['red1','red2','red3','red4','red5','red6'] \n",
    "          )],axis=1)\n",
    "merged_required.head(5)"
   ]
  },
  {
   "cell_type": "code",
   "execution_count": 114,
   "metadata": {},
   "outputs": [
    {
     "data": {
      "text/html": [
       "<div>\n",
       "<style scoped>\n",
       "    .dataframe tbody tr th:only-of-type {\n",
       "        vertical-align: middle;\n",
       "    }\n",
       "\n",
       "    .dataframe tbody tr th {\n",
       "        vertical-align: top;\n",
       "    }\n",
       "\n",
       "    .dataframe thead th {\n",
       "        text-align: right;\n",
       "    }\n",
       "</style>\n",
       "<table border=\"1\" class=\"dataframe\">\n",
       "  <thead>\n",
       "    <tr style=\"text-align: right;\">\n",
       "      <th></th>\n",
       "      <th>TransactionID</th>\n",
       "      <th>isFraud</th>\n",
       "      <th>TransactionDT</th>\n",
       "      <th>TransactionAmt</th>\n",
       "      <th>ProductCD</th>\n",
       "      <th>card1</th>\n",
       "      <th>card2</th>\n",
       "      <th>card3</th>\n",
       "      <th>card4</th>\n",
       "      <th>card5</th>\n",
       "      <th>...</th>\n",
       "      <th>red3</th>\n",
       "      <th>red4</th>\n",
       "      <th>red5</th>\n",
       "      <th>red6</th>\n",
       "      <th>devInfo1</th>\n",
       "      <th>devInfo2</th>\n",
       "      <th>devInfo3</th>\n",
       "      <th>devInfo4</th>\n",
       "      <th>devInfo5</th>\n",
       "      <th>devInfo6</th>\n",
       "    </tr>\n",
       "  </thead>\n",
       "  <tbody>\n",
       "    <tr>\n",
       "      <th>0</th>\n",
       "      <td>2987000</td>\n",
       "      <td>0</td>\n",
       "      <td>86400</td>\n",
       "      <td>68.5</td>\n",
       "      <td>4</td>\n",
       "      <td>13926</td>\n",
       "      <td>361.0</td>\n",
       "      <td>150.0</td>\n",
       "      <td>2</td>\n",
       "      <td>142.0</td>\n",
       "      <td>...</td>\n",
       "      <td>1.0</td>\n",
       "      <td>0.0</td>\n",
       "      <td>0.0</td>\n",
       "      <td>0.0</td>\n",
       "      <td>0.0</td>\n",
       "      <td>0.0</td>\n",
       "      <td>0.0</td>\n",
       "      <td>-1.0</td>\n",
       "      <td>0.0</td>\n",
       "      <td>0.0</td>\n",
       "    </tr>\n",
       "    <tr>\n",
       "      <th>1</th>\n",
       "      <td>2987001</td>\n",
       "      <td>0</td>\n",
       "      <td>86401</td>\n",
       "      <td>29.0</td>\n",
       "      <td>4</td>\n",
       "      <td>2755</td>\n",
       "      <td>404.0</td>\n",
       "      <td>150.0</td>\n",
       "      <td>3</td>\n",
       "      <td>102.0</td>\n",
       "      <td>...</td>\n",
       "      <td>1.0</td>\n",
       "      <td>0.0</td>\n",
       "      <td>0.0</td>\n",
       "      <td>0.0</td>\n",
       "      <td>0.0</td>\n",
       "      <td>0.0</td>\n",
       "      <td>0.0</td>\n",
       "      <td>-1.0</td>\n",
       "      <td>0.0</td>\n",
       "      <td>0.0</td>\n",
       "    </tr>\n",
       "    <tr>\n",
       "      <th>2</th>\n",
       "      <td>2987002</td>\n",
       "      <td>0</td>\n",
       "      <td>86469</td>\n",
       "      <td>59.0</td>\n",
       "      <td>4</td>\n",
       "      <td>4663</td>\n",
       "      <td>490.0</td>\n",
       "      <td>150.0</td>\n",
       "      <td>4</td>\n",
       "      <td>166.0</td>\n",
       "      <td>...</td>\n",
       "      <td>1.0</td>\n",
       "      <td>0.0</td>\n",
       "      <td>0.0</td>\n",
       "      <td>0.0</td>\n",
       "      <td>0.0</td>\n",
       "      <td>0.0</td>\n",
       "      <td>0.0</td>\n",
       "      <td>-1.0</td>\n",
       "      <td>0.0</td>\n",
       "      <td>0.0</td>\n",
       "    </tr>\n",
       "    <tr>\n",
       "      <th>3</th>\n",
       "      <td>2987003</td>\n",
       "      <td>0</td>\n",
       "      <td>86499</td>\n",
       "      <td>50.0</td>\n",
       "      <td>4</td>\n",
       "      <td>18132</td>\n",
       "      <td>567.0</td>\n",
       "      <td>150.0</td>\n",
       "      <td>3</td>\n",
       "      <td>117.0</td>\n",
       "      <td>...</td>\n",
       "      <td>1.0</td>\n",
       "      <td>0.0</td>\n",
       "      <td>0.0</td>\n",
       "      <td>0.0</td>\n",
       "      <td>0.0</td>\n",
       "      <td>0.0</td>\n",
       "      <td>0.0</td>\n",
       "      <td>-1.0</td>\n",
       "      <td>0.0</td>\n",
       "      <td>0.0</td>\n",
       "    </tr>\n",
       "    <tr>\n",
       "      <th>4</th>\n",
       "      <td>2987004</td>\n",
       "      <td>0</td>\n",
       "      <td>86506</td>\n",
       "      <td>50.0</td>\n",
       "      <td>1</td>\n",
       "      <td>4497</td>\n",
       "      <td>514.0</td>\n",
       "      <td>150.0</td>\n",
       "      <td>3</td>\n",
       "      <td>102.0</td>\n",
       "      <td>...</td>\n",
       "      <td>1.0</td>\n",
       "      <td>0.0</td>\n",
       "      <td>0.0</td>\n",
       "      <td>0.0</td>\n",
       "      <td>-3.0</td>\n",
       "      <td>-1.0</td>\n",
       "      <td>3.0</td>\n",
       "      <td>3.0</td>\n",
       "      <td>5.0</td>\n",
       "      <td>0.0</td>\n",
       "    </tr>\n",
       "  </tbody>\n",
       "</table>\n",
       "<p>5 rows × 448 columns</p>\n",
       "</div>"
      ],
      "text/plain": [
       "   TransactionID  isFraud  TransactionDT  TransactionAmt  ProductCD  card1  \\\n",
       "0        2987000        0          86400            68.5          4  13926   \n",
       "1        2987001        0          86401            29.0          4   2755   \n",
       "2        2987002        0          86469            59.0          4   4663   \n",
       "3        2987003        0          86499            50.0          4  18132   \n",
       "4        2987004        0          86506            50.0          1   4497   \n",
       "\n",
       "   card2  card3  card4  card5  ...  red3  red4  red5  red6  devInfo1 devInfo2  \\\n",
       "0  361.0  150.0      2  142.0  ...   1.0   0.0   0.0   0.0       0.0      0.0   \n",
       "1  404.0  150.0      3  102.0  ...   1.0   0.0   0.0   0.0       0.0      0.0   \n",
       "2  490.0  150.0      4  166.0  ...   1.0   0.0   0.0   0.0       0.0      0.0   \n",
       "3  567.0  150.0      3  117.0  ...   1.0   0.0   0.0   0.0       0.0      0.0   \n",
       "4  514.0  150.0      3  102.0  ...   1.0   0.0   0.0   0.0      -3.0     -1.0   \n",
       "\n",
       "  devInfo3  devInfo4  devInfo5  devInfo6  \n",
       "0      0.0      -1.0       0.0       0.0  \n",
       "1      0.0      -1.0       0.0       0.0  \n",
       "2      0.0      -1.0       0.0       0.0  \n",
       "3      0.0      -1.0       0.0       0.0  \n",
       "4      3.0       3.0       5.0       0.0  \n",
       "\n",
       "[5 rows x 448 columns]"
      ]
     },
     "execution_count": 114,
     "metadata": {},
     "output_type": "execute_result"
    }
   ],
   "source": [
    "hashed_features = fh.fit_transform(merged_required['DeviceInfo'])\n",
    "hashed_features = hashed_features.toarray()\n",
    "merged_required = pd.concat([merged_required, pd.DataFrame(hashed_features,columns = ['devInfo1','devInfo2','devInfo3','devInfo4','devInfo5','devInfo6'] \n",
    "          )],axis=1)\n",
    "merged_required.head(5)"
   ]
  },
  {
   "cell_type": "code",
   "execution_count": 115,
   "metadata": {},
   "outputs": [],
   "source": [
    "y_train = merged_required[['isFraud']]"
   ]
  },
  {
   "cell_type": "code",
   "execution_count": 116,
   "metadata": {},
   "outputs": [],
   "source": [
    "merged_required.drop(['P_emaildomain','R_emaildomain','DeviceInfo','TransactionDT','isFraud'], axis = 1, inplace=True) "
   ]
  },
  {
   "cell_type": "code",
   "execution_count": 117,
   "metadata": {},
   "outputs": [
    {
     "data": {
      "text/plain": [
       "(590540, 443)"
      ]
     },
     "execution_count": 117,
     "metadata": {},
     "output_type": "execute_result"
    }
   ],
   "source": [
    "merged_required.shape"
   ]
  },
  {
   "cell_type": "code",
   "execution_count": 118,
   "metadata": {},
   "outputs": [],
   "source": [
    "# References: https://scikit-learn.org/stable/modules/generated/sklearn.model_selection.train_test_split.html\n",
    "from sklearn.model_selection import train_test_split\n",
    "xTrain, xTest, yTrain, yTest = train_test_split(merged_required, y_train, test_size = 0.2, random_state = 0)"
   ]
  },
  {
   "cell_type": "code",
   "execution_count": 119,
   "metadata": {},
   "outputs": [
    {
     "data": {
      "text/plain": [
       "0.1620350459752219"
      ]
     },
     "execution_count": 119,
     "metadata": {},
     "output_type": "execute_result"
    }
   ],
   "source": [
    "# baseline model - linear regression\n",
    "from sklearn.linear_model import LinearRegression\n",
    "from sklearn import metrics\n",
    "\n",
    "model = LinearRegression().fit(xTrain, yTrain)\n",
    "y_prediction = model.predict(xTest)\n",
    "RMSE = np.sqrt(metrics.mean_squared_error(yTest, y_prediction))\n",
    "RMSE"
   ]
  },
  {
   "cell_type": "code",
   "execution_count": null,
   "metadata": {},
   "outputs": [],
   "source": [
    "# https://scikit-learn.org/stable/modules/generated/sklearn.ensemble.RandomForestRegressor.html\n",
    "from sklearn.ensemble import RandomForestRegressor\n",
    "\n",
    "rf_model = RandomForestRegressor(n_estimators = 100, random_state = 42, max_depth = 22,n_jobs = -1)\n",
    "rf_model.fit(xTrain, yTrain)\n",
    "y_pred = rf_model.predict(xTest)"
   ]
  },
  {
   "cell_type": "code",
   "execution_count": null,
   "metadata": {},
   "outputs": [],
   "source": [
    "# References: https://xgboost.readthedocs.io/en/latest/\n",
    "import xgboost as xgb\n",
    "xgb_model = xgb.XGBRegressor(        \n",
    "                 learning_rate=0.06,\n",
    "                 max_depth=20,\n",
    "                 colsample_bytree=0.4,\n",
    "                 n_estimators=100,                                                                    \n",
    "                 subsample=0.6,\n",
    "                 n_jobs = -1)\n",
    "xgb_model.fit(xTrain,yTrain)\n",
    "y_pred = xgb_model.predict(xTest)"
   ]
  },
  {
   "cell_type": "code",
   "execution_count": null,
   "metadata": {},
   "outputs": [],
   "source": [
    "from sklearn.metrics import roc_auc_score\n",
    "roc_auc_score(yTest, y_pred)"
   ]
  },
  {
   "cell_type": "markdown",
   "metadata": {},
   "source": [
    "ROC score: 0.9498469076100613"
   ]
  },
  {
   "cell_type": "code",
   "execution_count": 120,
   "metadata": {},
   "outputs": [],
   "source": [
    "test_trans= pd.read_csv(\"test_transaction.csv\") \n",
    "test_ident = pd.read_csv(\"test_identity.csv\")\n",
    "\n",
    "merged_test = pd.merge(test_trans, test_ident, on='TransactionID', how='outer')"
   ]
  },
  {
   "cell_type": "code",
   "execution_count": 121,
   "metadata": {},
   "outputs": [],
   "source": [
    "merged_test['day'] = pd.to_datetime(merged_test['TransactionDT'], unit='s').dt.day\n",
    "merged_test['hours'] = pd.to_datetime(merged_test['TransactionDT'], unit='s').dt.hour"
   ]
  },
  {
   "cell_type": "code",
   "execution_count": 122,
   "metadata": {},
   "outputs": [],
   "source": [
    "merged_test.drop(['id_23','id_27','id_30','id_31','id_33','id_34'], axis = 1, inplace=True)\n",
    "group = merged_test.columns.to_series().groupby(merged_test.dtypes).groups\n",
    "for k, v in group.items():\n",
    "    if (k.name == 'int64' or k.name == 'float64'):\n",
    "        for eachVal in v:\n",
    "            merged_test[eachVal].fillna(np.nanmedian(merged_test[eachVal]), inplace=True)"
   ]
  },
  {
   "cell_type": "code",
   "execution_count": 123,
   "metadata": {},
   "outputs": [
    {
     "data": {
      "text/html": [
       "<div>\n",
       "<style scoped>\n",
       "    .dataframe tbody tr th:only-of-type {\n",
       "        vertical-align: middle;\n",
       "    }\n",
       "\n",
       "    .dataframe tbody tr th {\n",
       "        vertical-align: top;\n",
       "    }\n",
       "\n",
       "    .dataframe thead th {\n",
       "        text-align: right;\n",
       "    }\n",
       "</style>\n",
       "<table border=\"1\" class=\"dataframe\">\n",
       "  <thead>\n",
       "    <tr style=\"text-align: right;\">\n",
       "      <th></th>\n",
       "      <th>TransactionID</th>\n",
       "      <th>TransactionDT</th>\n",
       "      <th>TransactionAmt</th>\n",
       "      <th>ProductCD</th>\n",
       "      <th>card1</th>\n",
       "      <th>card2</th>\n",
       "      <th>card3</th>\n",
       "      <th>card4</th>\n",
       "      <th>card5</th>\n",
       "      <th>card6</th>\n",
       "      <th>...</th>\n",
       "      <th>id_29</th>\n",
       "      <th>id_32</th>\n",
       "      <th>id_35</th>\n",
       "      <th>id_36</th>\n",
       "      <th>id_37</th>\n",
       "      <th>id_38</th>\n",
       "      <th>DeviceType</th>\n",
       "      <th>DeviceInfo</th>\n",
       "      <th>day</th>\n",
       "      <th>hours</th>\n",
       "    </tr>\n",
       "  </thead>\n",
       "  <tbody>\n",
       "    <tr>\n",
       "      <th>0</th>\n",
       "      <td>3663549</td>\n",
       "      <td>18403224</td>\n",
       "      <td>31.95</td>\n",
       "      <td>4</td>\n",
       "      <td>10409</td>\n",
       "      <td>111.0</td>\n",
       "      <td>150.0</td>\n",
       "      <td>4</td>\n",
       "      <td>226.0</td>\n",
       "      <td>3</td>\n",
       "      <td>...</td>\n",
       "      <td>1</td>\n",
       "      <td>24.0</td>\n",
       "      <td>0</td>\n",
       "      <td>0</td>\n",
       "      <td>0</td>\n",
       "      <td>0</td>\n",
       "      <td>0</td>\n",
       "      <td>Y</td>\n",
       "      <td>2</td>\n",
       "      <td>0</td>\n",
       "    </tr>\n",
       "    <tr>\n",
       "      <th>1</th>\n",
       "      <td>3663550</td>\n",
       "      <td>18403263</td>\n",
       "      <td>49.00</td>\n",
       "      <td>4</td>\n",
       "      <td>4272</td>\n",
       "      <td>111.0</td>\n",
       "      <td>150.0</td>\n",
       "      <td>4</td>\n",
       "      <td>226.0</td>\n",
       "      <td>3</td>\n",
       "      <td>...</td>\n",
       "      <td>1</td>\n",
       "      <td>24.0</td>\n",
       "      <td>0</td>\n",
       "      <td>0</td>\n",
       "      <td>0</td>\n",
       "      <td>0</td>\n",
       "      <td>0</td>\n",
       "      <td>Y</td>\n",
       "      <td>2</td>\n",
       "      <td>0</td>\n",
       "    </tr>\n",
       "    <tr>\n",
       "      <th>2</th>\n",
       "      <td>3663551</td>\n",
       "      <td>18403310</td>\n",
       "      <td>171.00</td>\n",
       "      <td>4</td>\n",
       "      <td>4476</td>\n",
       "      <td>574.0</td>\n",
       "      <td>150.0</td>\n",
       "      <td>4</td>\n",
       "      <td>226.0</td>\n",
       "      <td>3</td>\n",
       "      <td>...</td>\n",
       "      <td>1</td>\n",
       "      <td>24.0</td>\n",
       "      <td>0</td>\n",
       "      <td>0</td>\n",
       "      <td>0</td>\n",
       "      <td>0</td>\n",
       "      <td>0</td>\n",
       "      <td>Y</td>\n",
       "      <td>2</td>\n",
       "      <td>0</td>\n",
       "    </tr>\n",
       "    <tr>\n",
       "      <th>3</th>\n",
       "      <td>3663552</td>\n",
       "      <td>18403310</td>\n",
       "      <td>284.95</td>\n",
       "      <td>4</td>\n",
       "      <td>10989</td>\n",
       "      <td>360.0</td>\n",
       "      <td>150.0</td>\n",
       "      <td>4</td>\n",
       "      <td>166.0</td>\n",
       "      <td>3</td>\n",
       "      <td>...</td>\n",
       "      <td>1</td>\n",
       "      <td>24.0</td>\n",
       "      <td>0</td>\n",
       "      <td>0</td>\n",
       "      <td>0</td>\n",
       "      <td>0</td>\n",
       "      <td>0</td>\n",
       "      <td>Y</td>\n",
       "      <td>2</td>\n",
       "      <td>0</td>\n",
       "    </tr>\n",
       "    <tr>\n",
       "      <th>4</th>\n",
       "      <td>3663553</td>\n",
       "      <td>18403317</td>\n",
       "      <td>67.95</td>\n",
       "      <td>4</td>\n",
       "      <td>18018</td>\n",
       "      <td>452.0</td>\n",
       "      <td>150.0</td>\n",
       "      <td>3</td>\n",
       "      <td>117.0</td>\n",
       "      <td>3</td>\n",
       "      <td>...</td>\n",
       "      <td>1</td>\n",
       "      <td>24.0</td>\n",
       "      <td>0</td>\n",
       "      <td>0</td>\n",
       "      <td>0</td>\n",
       "      <td>0</td>\n",
       "      <td>0</td>\n",
       "      <td>Y</td>\n",
       "      <td>2</td>\n",
       "      <td>0</td>\n",
       "    </tr>\n",
       "  </tbody>\n",
       "</table>\n",
       "<p>5 rows × 429 columns</p>\n",
       "</div>"
      ],
      "text/plain": [
       "   TransactionID  TransactionDT  TransactionAmt  ProductCD  card1  card2  \\\n",
       "0        3663549       18403224           31.95          4  10409  111.0   \n",
       "1        3663550       18403263           49.00          4   4272  111.0   \n",
       "2        3663551       18403310          171.00          4   4476  574.0   \n",
       "3        3663552       18403310          284.95          4  10989  360.0   \n",
       "4        3663553       18403317           67.95          4  18018  452.0   \n",
       "\n",
       "   card3  card4  card5  card6  ...  id_29  id_32  id_35  id_36 id_37 id_38  \\\n",
       "0  150.0      4  226.0      3  ...      1   24.0      0      0     0     0   \n",
       "1  150.0      4  226.0      3  ...      1   24.0      0      0     0     0   \n",
       "2  150.0      4  226.0      3  ...      1   24.0      0      0     0     0   \n",
       "3  150.0      4  166.0      3  ...      1   24.0      0      0     0     0   \n",
       "4  150.0      3  117.0      3  ...      1   24.0      0      0     0     0   \n",
       "\n",
       "   DeviceType  DeviceInfo  day  hours  \n",
       "0           0           Y    2      0  \n",
       "1           0           Y    2      0  \n",
       "2           0           Y    2      0  \n",
       "3           0           Y    2      0  \n",
       "4           0           Y    2      0  \n",
       "\n",
       "[5 rows x 429 columns]"
      ]
     },
     "execution_count": 123,
     "metadata": {},
     "output_type": "execute_result"
    }
   ],
   "source": [
    "merged_test[\"ProductCD\"].fillna(\"T\", inplace = True)\n",
    "merged_test[\"card4\"].fillna(\"U\", inplace = True)\n",
    "merged_test[\"card6\"].fillna(\"V\", inplace = True)\n",
    "merged_test[\"P_emaildomain\"].fillna(\"B\", inplace = True)\n",
    "merged_test[\"R_emaildomain\"].fillna(\"X\", inplace = True)\n",
    "merged_test[\"DeviceInfo\"].fillna(\"Y\", inplace = True)\n",
    "merged_test[\"DeviceType\"].fillna(\"Z\", inplace = True)\n",
    "merged_test[\"M1\"].fillna(\"A\", inplace = True)\n",
    "merged_test[\"M2\"].fillna(\"A\", inplace = True)\n",
    "merged_test[\"M3\"].fillna(\"A\", inplace = True)\n",
    "merged_test[\"M4\"].fillna(\"A\", inplace = True)\n",
    "merged_test[\"M5\"].fillna(\"A\", inplace = True)\n",
    "merged_test[\"M6\"].fillna(\"A\", inplace = True)\n",
    "merged_test[\"M7\"].fillna(\"A\", inplace = True)\n",
    "merged_test[\"M8\"].fillna(\"A\", inplace = True)\n",
    "merged_test[\"M9\"].fillna(\"A\", inplace = True)\n",
    "\n",
    "\n",
    "merged_test[\"id_12\"].fillna(\"D\", inplace = True)\n",
    "merged_test[\"id_15\"].fillna(\"E\", inplace = True)\n",
    "merged_test[\"id_16\"].fillna(\"D\", inplace = True)\n",
    "merged_test[\"id_28\"].fillna(\"I\", inplace = True)\n",
    "merged_test[\"id_29\"].fillna(\"J\", inplace = True)\n",
    "merged_test[\"id_35\"].fillna(\"A\", inplace = True)\n",
    "merged_test[\"id_36\"].fillna(\"A\", inplace = True)\n",
    "merged_test[\"id_37\"].fillna(\"A\", inplace = True)\n",
    "merged_test[\"id_38\"].fillna(\"A\", inplace = True)\n",
    "\n",
    "\n",
    "from sklearn.preprocessing import LabelEncoder\n",
    "\n",
    "label_encod = LabelEncoder()\n",
    "for each_col in ['M1','M2','M3', 'M4', 'M5', 'M6', 'M7', 'M8', 'M9','ProductCD','card4','card6','DeviceType',\n",
    "                'id_12','id_15','id_16','id_28','id_29','id_35','id_36','id_37','id_38']:\n",
    "    each_col_unique = np.unique(merged_test[each_col])\n",
    "    each_col_labels = label_encod.fit_transform(merged_test[each_col])\n",
    "    merged_test[each_col] = each_col_labels\n",
    "merged_test.head(5)\n",
    "\n"
   ]
  },
  {
   "cell_type": "code",
   "execution_count": 124,
   "metadata": {},
   "outputs": [
    {
     "data": {
      "text/html": [
       "<div>\n",
       "<style scoped>\n",
       "    .dataframe tbody tr th:only-of-type {\n",
       "        vertical-align: middle;\n",
       "    }\n",
       "\n",
       "    .dataframe tbody tr th {\n",
       "        vertical-align: top;\n",
       "    }\n",
       "\n",
       "    .dataframe thead th {\n",
       "        text-align: right;\n",
       "    }\n",
       "</style>\n",
       "<table border=\"1\" class=\"dataframe\">\n",
       "  <thead>\n",
       "    <tr style=\"text-align: right;\">\n",
       "      <th></th>\n",
       "      <th>TransactionID</th>\n",
       "      <th>TransactionDT</th>\n",
       "      <th>TransactionAmt</th>\n",
       "      <th>ProductCD</th>\n",
       "      <th>card1</th>\n",
       "      <th>card2</th>\n",
       "      <th>card3</th>\n",
       "      <th>card4</th>\n",
       "      <th>card5</th>\n",
       "      <th>card6</th>\n",
       "      <th>...</th>\n",
       "      <th>red3</th>\n",
       "      <th>red4</th>\n",
       "      <th>red5</th>\n",
       "      <th>red6</th>\n",
       "      <th>devInfo1</th>\n",
       "      <th>devInfo2</th>\n",
       "      <th>devInfo3</th>\n",
       "      <th>devInfo4</th>\n",
       "      <th>devInfo5</th>\n",
       "      <th>devInfo6</th>\n",
       "    </tr>\n",
       "  </thead>\n",
       "  <tbody>\n",
       "    <tr>\n",
       "      <th>0</th>\n",
       "      <td>3663549</td>\n",
       "      <td>18403224</td>\n",
       "      <td>31.95</td>\n",
       "      <td>4</td>\n",
       "      <td>10409</td>\n",
       "      <td>111.0</td>\n",
       "      <td>150.0</td>\n",
       "      <td>4</td>\n",
       "      <td>226.0</td>\n",
       "      <td>3</td>\n",
       "      <td>...</td>\n",
       "      <td>1.0</td>\n",
       "      <td>0.0</td>\n",
       "      <td>0.0</td>\n",
       "      <td>0.0</td>\n",
       "      <td>0.0</td>\n",
       "      <td>0.0</td>\n",
       "      <td>0.0</td>\n",
       "      <td>-1.0</td>\n",
       "      <td>0.0</td>\n",
       "      <td>0.0</td>\n",
       "    </tr>\n",
       "    <tr>\n",
       "      <th>1</th>\n",
       "      <td>3663550</td>\n",
       "      <td>18403263</td>\n",
       "      <td>49.00</td>\n",
       "      <td>4</td>\n",
       "      <td>4272</td>\n",
       "      <td>111.0</td>\n",
       "      <td>150.0</td>\n",
       "      <td>4</td>\n",
       "      <td>226.0</td>\n",
       "      <td>3</td>\n",
       "      <td>...</td>\n",
       "      <td>1.0</td>\n",
       "      <td>0.0</td>\n",
       "      <td>0.0</td>\n",
       "      <td>0.0</td>\n",
       "      <td>0.0</td>\n",
       "      <td>0.0</td>\n",
       "      <td>0.0</td>\n",
       "      <td>-1.0</td>\n",
       "      <td>0.0</td>\n",
       "      <td>0.0</td>\n",
       "    </tr>\n",
       "    <tr>\n",
       "      <th>2</th>\n",
       "      <td>3663551</td>\n",
       "      <td>18403310</td>\n",
       "      <td>171.00</td>\n",
       "      <td>4</td>\n",
       "      <td>4476</td>\n",
       "      <td>574.0</td>\n",
       "      <td>150.0</td>\n",
       "      <td>4</td>\n",
       "      <td>226.0</td>\n",
       "      <td>3</td>\n",
       "      <td>...</td>\n",
       "      <td>1.0</td>\n",
       "      <td>0.0</td>\n",
       "      <td>0.0</td>\n",
       "      <td>0.0</td>\n",
       "      <td>0.0</td>\n",
       "      <td>0.0</td>\n",
       "      <td>0.0</td>\n",
       "      <td>-1.0</td>\n",
       "      <td>0.0</td>\n",
       "      <td>0.0</td>\n",
       "    </tr>\n",
       "    <tr>\n",
       "      <th>3</th>\n",
       "      <td>3663552</td>\n",
       "      <td>18403310</td>\n",
       "      <td>284.95</td>\n",
       "      <td>4</td>\n",
       "      <td>10989</td>\n",
       "      <td>360.0</td>\n",
       "      <td>150.0</td>\n",
       "      <td>4</td>\n",
       "      <td>166.0</td>\n",
       "      <td>3</td>\n",
       "      <td>...</td>\n",
       "      <td>1.0</td>\n",
       "      <td>0.0</td>\n",
       "      <td>0.0</td>\n",
       "      <td>0.0</td>\n",
       "      <td>0.0</td>\n",
       "      <td>0.0</td>\n",
       "      <td>0.0</td>\n",
       "      <td>-1.0</td>\n",
       "      <td>0.0</td>\n",
       "      <td>0.0</td>\n",
       "    </tr>\n",
       "    <tr>\n",
       "      <th>4</th>\n",
       "      <td>3663553</td>\n",
       "      <td>18403317</td>\n",
       "      <td>67.95</td>\n",
       "      <td>4</td>\n",
       "      <td>18018</td>\n",
       "      <td>452.0</td>\n",
       "      <td>150.0</td>\n",
       "      <td>3</td>\n",
       "      <td>117.0</td>\n",
       "      <td>3</td>\n",
       "      <td>...</td>\n",
       "      <td>1.0</td>\n",
       "      <td>0.0</td>\n",
       "      <td>0.0</td>\n",
       "      <td>0.0</td>\n",
       "      <td>0.0</td>\n",
       "      <td>0.0</td>\n",
       "      <td>0.0</td>\n",
       "      <td>-1.0</td>\n",
       "      <td>0.0</td>\n",
       "      <td>0.0</td>\n",
       "    </tr>\n",
       "  </tbody>\n",
       "</table>\n",
       "<p>5 rows × 447 columns</p>\n",
       "</div>"
      ],
      "text/plain": [
       "   TransactionID  TransactionDT  TransactionAmt  ProductCD  card1  card2  \\\n",
       "0        3663549       18403224           31.95          4  10409  111.0   \n",
       "1        3663550       18403263           49.00          4   4272  111.0   \n",
       "2        3663551       18403310          171.00          4   4476  574.0   \n",
       "3        3663552       18403310          284.95          4  10989  360.0   \n",
       "4        3663553       18403317           67.95          4  18018  452.0   \n",
       "\n",
       "   card3  card4  card5  card6  ...  red3  red4  red5  red6 devInfo1 devInfo2  \\\n",
       "0  150.0      4  226.0      3  ...   1.0   0.0   0.0   0.0      0.0      0.0   \n",
       "1  150.0      4  226.0      3  ...   1.0   0.0   0.0   0.0      0.0      0.0   \n",
       "2  150.0      4  226.0      3  ...   1.0   0.0   0.0   0.0      0.0      0.0   \n",
       "3  150.0      4  166.0      3  ...   1.0   0.0   0.0   0.0      0.0      0.0   \n",
       "4  150.0      3  117.0      3  ...   1.0   0.0   0.0   0.0      0.0      0.0   \n",
       "\n",
       "   devInfo3  devInfo4  devInfo5  devInfo6  \n",
       "0       0.0      -1.0       0.0       0.0  \n",
       "1       0.0      -1.0       0.0       0.0  \n",
       "2       0.0      -1.0       0.0       0.0  \n",
       "3       0.0      -1.0       0.0       0.0  \n",
       "4       0.0      -1.0       0.0       0.0  \n",
       "\n",
       "[5 rows x 447 columns]"
      ]
     },
     "execution_count": 124,
     "metadata": {},
     "output_type": "execute_result"
    }
   ],
   "source": [
    "from sklearn.feature_extraction import FeatureHasher\n",
    "\n",
    "fh = FeatureHasher(n_features=6, input_type='string')\n",
    "hashed_features = fh.fit_transform(merged_test['P_emaildomain'])\n",
    "hashed_features = hashed_features.toarray()\n",
    "merged_test = pd.concat([merged_test, pd.DataFrame(hashed_features,columns = ['ped1','ped2','ped3','ped4','ped5','ped6'] \n",
    "          )],axis=1)\n",
    "#merged_test.head(5)\n",
    "\n",
    "hashed_features = fh.fit_transform(merged_test['R_emaildomain'])\n",
    "hashed_features = hashed_features.toarray()\n",
    "merged_test = pd.concat([merged_test, pd.DataFrame(hashed_features,columns = ['red1','red2','red3','red4','red5','red6'] \n",
    "          )],axis=1)\n",
    "#merged_required.head(5)\n",
    "\n",
    "hashed_features = fh.fit_transform(merged_test['DeviceInfo'])\n",
    "hashed_features = hashed_features.toarray()\n",
    "merged_test = pd.concat([merged_test, pd.DataFrame(hashed_features,columns = ['devInfo1','devInfo2','devInfo3','devInfo4','devInfo5','devInfo6'] \n",
    "          )],axis=1)\n",
    "\n",
    "merged_test.head(5)"
   ]
  },
  {
   "cell_type": "code",
   "execution_count": 125,
   "metadata": {},
   "outputs": [],
   "source": [
    "merged_test.drop(['P_emaildomain','R_emaildomain','DeviceInfo','TransactionDT'], axis = 1, inplace=True)"
   ]
  },
  {
   "cell_type": "code",
   "execution_count": 126,
   "metadata": {},
   "outputs": [
    {
     "data": {
      "text/html": [
       "<div>\n",
       "<style scoped>\n",
       "    .dataframe tbody tr th:only-of-type {\n",
       "        vertical-align: middle;\n",
       "    }\n",
       "\n",
       "    .dataframe tbody tr th {\n",
       "        vertical-align: top;\n",
       "    }\n",
       "\n",
       "    .dataframe thead th {\n",
       "        text-align: right;\n",
       "    }\n",
       "</style>\n",
       "<table border=\"1\" class=\"dataframe\">\n",
       "  <thead>\n",
       "    <tr style=\"text-align: right;\">\n",
       "      <th></th>\n",
       "      <th>TransactionID</th>\n",
       "      <th>TransactionAmt</th>\n",
       "      <th>ProductCD</th>\n",
       "      <th>card1</th>\n",
       "      <th>card2</th>\n",
       "      <th>card3</th>\n",
       "      <th>card4</th>\n",
       "      <th>card5</th>\n",
       "      <th>card6</th>\n",
       "      <th>addr1</th>\n",
       "      <th>...</th>\n",
       "      <th>red3</th>\n",
       "      <th>red4</th>\n",
       "      <th>red5</th>\n",
       "      <th>red6</th>\n",
       "      <th>devInfo1</th>\n",
       "      <th>devInfo2</th>\n",
       "      <th>devInfo3</th>\n",
       "      <th>devInfo4</th>\n",
       "      <th>devInfo5</th>\n",
       "      <th>devInfo6</th>\n",
       "    </tr>\n",
       "  </thead>\n",
       "  <tbody>\n",
       "    <tr>\n",
       "      <th>0</th>\n",
       "      <td>3663549</td>\n",
       "      <td>31.95</td>\n",
       "      <td>4</td>\n",
       "      <td>10409</td>\n",
       "      <td>111.0</td>\n",
       "      <td>150.0</td>\n",
       "      <td>4</td>\n",
       "      <td>226.0</td>\n",
       "      <td>3</td>\n",
       "      <td>170.0</td>\n",
       "      <td>...</td>\n",
       "      <td>1.0</td>\n",
       "      <td>0.0</td>\n",
       "      <td>0.0</td>\n",
       "      <td>0.0</td>\n",
       "      <td>0.0</td>\n",
       "      <td>0.0</td>\n",
       "      <td>0.0</td>\n",
       "      <td>-1.0</td>\n",
       "      <td>0.0</td>\n",
       "      <td>0.0</td>\n",
       "    </tr>\n",
       "    <tr>\n",
       "      <th>1</th>\n",
       "      <td>3663550</td>\n",
       "      <td>49.00</td>\n",
       "      <td>4</td>\n",
       "      <td>4272</td>\n",
       "      <td>111.0</td>\n",
       "      <td>150.0</td>\n",
       "      <td>4</td>\n",
       "      <td>226.0</td>\n",
       "      <td>3</td>\n",
       "      <td>299.0</td>\n",
       "      <td>...</td>\n",
       "      <td>1.0</td>\n",
       "      <td>0.0</td>\n",
       "      <td>0.0</td>\n",
       "      <td>0.0</td>\n",
       "      <td>0.0</td>\n",
       "      <td>0.0</td>\n",
       "      <td>0.0</td>\n",
       "      <td>-1.0</td>\n",
       "      <td>0.0</td>\n",
       "      <td>0.0</td>\n",
       "    </tr>\n",
       "    <tr>\n",
       "      <th>2</th>\n",
       "      <td>3663551</td>\n",
       "      <td>171.00</td>\n",
       "      <td>4</td>\n",
       "      <td>4476</td>\n",
       "      <td>574.0</td>\n",
       "      <td>150.0</td>\n",
       "      <td>4</td>\n",
       "      <td>226.0</td>\n",
       "      <td>3</td>\n",
       "      <td>472.0</td>\n",
       "      <td>...</td>\n",
       "      <td>1.0</td>\n",
       "      <td>0.0</td>\n",
       "      <td>0.0</td>\n",
       "      <td>0.0</td>\n",
       "      <td>0.0</td>\n",
       "      <td>0.0</td>\n",
       "      <td>0.0</td>\n",
       "      <td>-1.0</td>\n",
       "      <td>0.0</td>\n",
       "      <td>0.0</td>\n",
       "    </tr>\n",
       "    <tr>\n",
       "      <th>3</th>\n",
       "      <td>3663552</td>\n",
       "      <td>284.95</td>\n",
       "      <td>4</td>\n",
       "      <td>10989</td>\n",
       "      <td>360.0</td>\n",
       "      <td>150.0</td>\n",
       "      <td>4</td>\n",
       "      <td>166.0</td>\n",
       "      <td>3</td>\n",
       "      <td>205.0</td>\n",
       "      <td>...</td>\n",
       "      <td>1.0</td>\n",
       "      <td>0.0</td>\n",
       "      <td>0.0</td>\n",
       "      <td>0.0</td>\n",
       "      <td>0.0</td>\n",
       "      <td>0.0</td>\n",
       "      <td>0.0</td>\n",
       "      <td>-1.0</td>\n",
       "      <td>0.0</td>\n",
       "      <td>0.0</td>\n",
       "    </tr>\n",
       "    <tr>\n",
       "      <th>4</th>\n",
       "      <td>3663553</td>\n",
       "      <td>67.95</td>\n",
       "      <td>4</td>\n",
       "      <td>18018</td>\n",
       "      <td>452.0</td>\n",
       "      <td>150.0</td>\n",
       "      <td>3</td>\n",
       "      <td>117.0</td>\n",
       "      <td>3</td>\n",
       "      <td>264.0</td>\n",
       "      <td>...</td>\n",
       "      <td>1.0</td>\n",
       "      <td>0.0</td>\n",
       "      <td>0.0</td>\n",
       "      <td>0.0</td>\n",
       "      <td>0.0</td>\n",
       "      <td>0.0</td>\n",
       "      <td>0.0</td>\n",
       "      <td>-1.0</td>\n",
       "      <td>0.0</td>\n",
       "      <td>0.0</td>\n",
       "    </tr>\n",
       "  </tbody>\n",
       "</table>\n",
       "<p>5 rows × 443 columns</p>\n",
       "</div>"
      ],
      "text/plain": [
       "   TransactionID  TransactionAmt  ProductCD  card1  card2  card3  card4  \\\n",
       "0        3663549           31.95          4  10409  111.0  150.0      4   \n",
       "1        3663550           49.00          4   4272  111.0  150.0      4   \n",
       "2        3663551          171.00          4   4476  574.0  150.0      4   \n",
       "3        3663552          284.95          4  10989  360.0  150.0      4   \n",
       "4        3663553           67.95          4  18018  452.0  150.0      3   \n",
       "\n",
       "   card5  card6  addr1  ...  red3  red4  red5  red6  devInfo1  devInfo2  \\\n",
       "0  226.0      3  170.0  ...   1.0   0.0   0.0   0.0       0.0       0.0   \n",
       "1  226.0      3  299.0  ...   1.0   0.0   0.0   0.0       0.0       0.0   \n",
       "2  226.0      3  472.0  ...   1.0   0.0   0.0   0.0       0.0       0.0   \n",
       "3  166.0      3  205.0  ...   1.0   0.0   0.0   0.0       0.0       0.0   \n",
       "4  117.0      3  264.0  ...   1.0   0.0   0.0   0.0       0.0       0.0   \n",
       "\n",
       "   devInfo3  devInfo4  devInfo5  devInfo6  \n",
       "0       0.0      -1.0       0.0       0.0  \n",
       "1       0.0      -1.0       0.0       0.0  \n",
       "2       0.0      -1.0       0.0       0.0  \n",
       "3       0.0      -1.0       0.0       0.0  \n",
       "4       0.0      -1.0       0.0       0.0  \n",
       "\n",
       "[5 rows x 443 columns]"
      ]
     },
     "execution_count": 126,
     "metadata": {},
     "output_type": "execute_result"
    }
   ],
   "source": [
    "merged_test.head(5)"
   ]
  },
  {
   "cell_type": "code",
   "execution_count": 127,
   "metadata": {},
   "outputs": [],
   "source": [
    "#Baseline model using Linear Regression\n",
    "y_prediction_test = model.predict(merged_test)"
   ]
  },
  {
   "cell_type": "code",
   "execution_count": null,
   "metadata": {},
   "outputs": [],
   "source": [
    "# Using Xgboost Regressor\n",
    "y_prediction_test = xgb_model.predict(merged_test)"
   ]
  },
  {
   "cell_type": "code",
   "execution_count": null,
   "metadata": {},
   "outputs": [],
   "source": [
    "y_predict_test_df = pd.DataFrame(y_prediction_test, columns=['isFraud'])\n",
    "y_predict_test_df.head(5)"
   ]
  },
  {
   "cell_type": "code",
   "execution_count": null,
   "metadata": {},
   "outputs": [],
   "source": [
    "final_df= pd.DataFrame(data={'TransactionID':merged_test['TransactionID'],'isFraud':y_predict_test_df['isFraud']})"
   ]
  },
  {
   "cell_type": "code",
   "execution_count": null,
   "metadata": {},
   "outputs": [],
   "source": [
    "final_df.to_csv('submissionxg1.csv', index=False)"
   ]
  },
  {
   "cell_type": "markdown",
   "metadata": {},
   "source": [
    "## Part 7 - Final Result"
   ]
  },
  {
   "cell_type": "markdown",
   "metadata": {},
   "source": [
    "Report the rank, score, number of entries, for your highest rank. Include a snapshot of your best score on the leaderboard as confirmation. Be sure to provide a link to your Kaggle profile. Make sure to include a screenshot of your ranking. Make sure your profile includes your face and affiliation with SBU."
   ]
  },
  {
   "cell_type": "markdown",
   "metadata": {},
   "source": [
    "Kaggle Link: https://www.kaggle.com/meghanavemulapalli"
   ]
  },
  {
   "cell_type": "markdown",
   "metadata": {},
   "source": [
    "Highest Rank: 4842"
   ]
  },
  {
   "cell_type": "markdown",
   "metadata": {},
   "source": [
    "Score: 0.8971"
   ]
  },
  {
   "cell_type": "markdown",
   "metadata": {},
   "source": [
    "Number of entries: 7"
   ]
  },
  {
   "attachments": {
    "Screen%20Shot%202019-09-25%20at%2010.45.11%20PM.png": {
     "image/png": "[encoded data removed]"
    }
   },
   "cell_type": "markdown",
   "metadata": {},
   "source": [
    "![Screen%20Shot%202019-09-25%20at%2010.45.11%20PM.png](attachment:Screen%20Shot%202019-09-25%20at%2010.45.11%20PM.png)"
   ]
  },
  {
   "cell_type": "code",
   "execution_count": null,
   "metadata": {},
   "outputs": [],
   "source": []
  }
 ],
 "metadata": {
  "kernelspec": {
   "display_name": "Python 3",
   "language": "python",
   "name": "python3"
  },
  "language_info": {
   "codemirror_mode": {
    "name": "ipython",
    "version": 3
   },
   "file_extension": ".py",
   "mimetype": "text/x-python",
   "name": "python",
   "nbconvert_exporter": "python",
   "pygments_lexer": "ipython3",
   "version": "3.7.3"
  }
 },
 "nbformat": 4,
 "nbformat_minor": 2
}
